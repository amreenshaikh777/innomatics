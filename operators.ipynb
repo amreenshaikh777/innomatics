{
 "cells": [
  {
   "cell_type": "markdown",
   "id": "684955d7",
   "metadata": {},
   "source": [
    "# <center>Types of Operators<center>"
   ]
  },
  {
   "cell_type": "markdown",
   "id": "c647969e",
   "metadata": {},
   "source": [
    " ## 1- Arithmetic Operators"
   ]
  },
  {
   "cell_type": "code",
   "execution_count": 19,
   "id": "a8afe096",
   "metadata": {},
   "outputs": [
    {
     "name": "stdout",
     "output_type": "stream",
     "text": [
      "11\n",
      "-1\n",
      "30\n",
      "0.8333333333333334\n",
      "0\n",
      "5\n",
      "15625\n"
     ]
    }
   ],
   "source": [
    "x,y=(5,6)\n",
    "print(x+y) # addition\n",
    "print(x-y) # substraction\n",
    "print(x*y) # multiplication\n",
    "print(x/y) #division(pure division)\n",
    "print(x//y) #division\n",
    "print(x%y) #get modulus\n",
    "print(x**y) #power"
   ]
  },
  {
   "cell_type": "markdown",
   "id": "aa78ccb2",
   "metadata": {},
   "source": [
    "## 2- comparision operators\n"
   ]
  },
  {
   "cell_type": "code",
   "execution_count": 20,
   "id": "f7641f83",
   "metadata": {
    "scrolled": true
   },
   "outputs": [
    {
     "name": "stdout",
     "output_type": "stream",
     "text": [
      "False\n",
      "True\n",
      "False\n",
      "True\n",
      "False\n",
      "True\n"
     ]
    }
   ],
   "source": [
    "x=10\n",
    "y=20\n",
    "print(x==y) # x is equal to y\n",
    "print(x!=y) # x is not equal to u\n",
    "print(x>y) # x is grater than y\n",
    "print(x<y) # y is grater than x\n",
    "print(x>=y) # x is grater than y and not eual to y\n",
    "print(x<=y)  # y is grater than x and not equal to x "
   ]
  },
  {
   "cell_type": "markdown",
   "id": "f8386ff3",
   "metadata": {},
   "source": [
    " ## <u> 3-Identity operators <u>"
   ]
  },
  {
   "cell_type": "code",
   "execution_count": 25,
   "id": "95f367fb",
   "metadata": {},
   "outputs": [],
   "source": [
    "#Apart of integer and string all values are store in different memory location"
   ]
  },
  {
   "cell_type": "code",
   "execution_count": 24,
   "id": "5ba8d087",
   "metadata": {},
   "outputs": [
    {
     "name": "stdout",
     "output_type": "stream",
     "text": [
      "True\n",
      "False\n"
     ]
    }
   ],
   "source": [
    "a='innomatics'\n",
    "b='innomatics'\n",
    "c=[1,2,3,4,5]\n",
    "d=[1,2,3,4,5]\n",
    "print (a is b)\n",
    "print(c is d)"
   ]
  },
  {
   "cell_type": "code",
   "execution_count": 31,
   "id": "67c4a564",
   "metadata": {},
   "outputs": [
    {
     "name": "stdout",
     "output_type": "stream",
     "text": [
      "2087161156544 2087161064448\n"
     ]
    }
   ],
   "source": [
    "print(id(c), id(d))"
   ]
  },
  {
   "cell_type": "markdown",
   "id": "160895c5",
   "metadata": {},
   "source": [
    " #  4-<u> logical operators "
   ]
  },
  {
   "cell_type": "code",
   "execution_count": 1,
   "id": "f630ee82",
   "metadata": {},
   "outputs": [
    {
     "name": "stdout",
     "output_type": "stream",
     "text": [
      "True\n",
      "False\n",
      "False\n",
      "False\n"
     ]
    }
   ],
   "source": [
    "# logical Operators #AND\n",
    "x=100\n",
    "print(x>50 and x<1000) #true and true =true\n",
    "print(x>75 and x<98) #true and false=false\n",
    "print(x<98 and x>50) #false and true=false\n",
    "print(x<98 and x<10) #false and false=false\n",
    "\n",
    "      "
   ]
  },
  {
   "cell_type": "code",
   "execution_count": 20,
   "id": "940548a0",
   "metadata": {},
   "outputs": [
    {
     "name": "stdout",
     "output_type": "stream",
     "text": [
      "True\n",
      "True\n",
      "True\n",
      "False\n"
     ]
    }
   ],
   "source": [
    "#logical Operators #OR\n",
    "print(x>50 or x>30) #true or true=true\n",
    "print(x>50 or x<98) #true or false=true\n",
    "print(x<98 or x>50) #false or true=true\n",
    "print(x<98 or x<60) #false or false=false\n",
    "\n"
   ]
  },
  {
   "cell_type": "code",
   "execution_count": null,
   "id": "8a68c053",
   "metadata": {},
   "outputs": [],
   "source": [
    "#logical operators #Not\n",
    "pri"
   ]
  },
  {
   "cell_type": "markdown",
   "id": "f98f77b2",
   "metadata": {},
   "source": [
    "## 5- <u> Membership Operators  (In    Not in)"
   ]
  },
  {
   "cell_type": "code",
   "execution_count": 6,
   "id": "dc497036",
   "metadata": {},
   "outputs": [
    {
     "data": {
      "text/plain": [
       "True"
      ]
     },
     "execution_count": 6,
     "metadata": {},
     "output_type": "execute_result"
    }
   ],
   "source": [
    "1 in[1,2,3,4,5] "
   ]
  },
  {
   "cell_type": "code",
   "execution_count": 13,
   "id": "88df4c52",
   "metadata": {},
   "outputs": [
    {
     "data": {
      "text/plain": [
       "False"
      ]
     },
     "execution_count": 13,
     "metadata": {},
     "output_type": "execute_result"
    }
   ],
   "source": [
    "1 not in[1,2,3,4,5]"
   ]
  },
  {
   "cell_type": "code",
   "execution_count": 19,
   "id": "333ba06f",
   "metadata": {},
   "outputs": [
    {
     "data": {
      "text/plain": [
       "True"
      ]
     },
     "execution_count": 19,
     "metadata": {},
     "output_type": "execute_result"
    }
   ],
   "source": [
    "'1' in'1,2,3,4,5'"
   ]
  },
  {
   "cell_type": "code",
   "execution_count": 24,
   "id": "f0b9f9b3",
   "metadata": {},
   "outputs": [
    {
     "data": {
      "text/plain": [
       "True"
      ]
     },
     "execution_count": 24,
     "metadata": {},
     "output_type": "execute_result"
    }
   ],
   "source": [
    "'ello' in 'hello'#checking string present \n"
   ]
  },
  {
   "cell_type": "code",
   "execution_count": 25,
   "id": "50c74fd3",
   "metadata": {},
   "outputs": [
    {
     "data": {
      "text/plain": [
       "False"
      ]
     },
     "execution_count": 25,
     "metadata": {},
     "output_type": "execute_result"
    }
   ],
   "source": [
    "'ello' not in 'hello'"
   ]
  },
  {
   "cell_type": "markdown",
   "id": "4741a2c8",
   "metadata": {},
   "source": [
    "## 6- <u> Bitwise- operators"
   ]
  },
  {
   "cell_type": "markdown",
   "id": "f948a91a",
   "metadata": {},
   "source": [
    "<b>Bitwise(&)\n",
    "      "
   ]
  },
  {
   "cell_type": "markdown",
   "id": "f9347103",
   "metadata": {},
   "source": [
    "#### X  Y --X&Y\n",
    "#### 0  0  --0\n",
    "#### 0  1 --0\n",
    "#### 1  0 --0\n",
    "#### 1  1 --1"
   ]
  },
  {
   "cell_type": "code",
   "execution_count": 1,
   "id": "b0505193",
   "metadata": {},
   "outputs": [
    {
     "name": "stdout",
     "output_type": "stream",
     "text": [
      "32\n"
     ]
    }
   ],
   "source": [
    "x=33     \n",
    "y=42                \n",
    "print(x&y)\n",
    "\n"
   ]
  },
  {
   "cell_type": "markdown",
   "id": "29eb9df2",
   "metadata": {},
   "source": [
    "### Bitwise | (oR)"
   ]
  },
  {
   "cell_type": "markdown",
   "id": "4f077adb",
   "metadata": {},
   "source": [
    "#### X  Y --X|Y\n",
    "#### 0  0  --0\n",
    "#### 0  1 --1\n",
    "#### 1  0 --1\n",
    "#### 1  1 --1"
   ]
  },
  {
   "cell_type": "code",
   "execution_count": 2,
   "id": "8b8e535e",
   "metadata": {},
   "outputs": [
    {
     "name": "stdout",
     "output_type": "stream",
     "text": [
      "30\n"
     ]
    }
   ],
   "source": [
    "x=20\n",
    "y=10\n",
    "print(x|y)"
   ]
  },
  {
   "cell_type": "markdown",
   "id": "f364d9b7",
   "metadata": {},
   "source": [
    "### Bitwise Not OR (^)"
   ]
  },
  {
   "cell_type": "markdown",
   "id": "0dfd59cc",
   "metadata": {},
   "source": [
    "#### X  Y --X^Y\n",
    "#### 0  0  --0\n",
    "#### 0  1 --1\n",
    "#### 1  0 --1\n",
    "#### 1  1 --0"
   ]
  },
  {
   "cell_type": "code",
   "execution_count": 3,
   "id": "74fee692",
   "metadata": {},
   "outputs": [
    {
     "name": "stdout",
     "output_type": "stream",
     "text": [
      "19\n"
     ]
    }
   ],
   "source": [
    "x=10\n",
    "y=25\n",
    "print (x^y)"
   ]
  },
  {
   "cell_type": "markdown",
   "id": "7cd1febd",
   "metadata": {},
   "source": [
    " #### Bitwise Left shift (<<)   it gets multiply by 2"
   ]
  },
  {
   "cell_type": "code",
   "execution_count": 9,
   "id": "62d99f68",
   "metadata": {},
   "outputs": [
    {
     "data": {
      "text/plain": [
       "12"
      ]
     },
     "execution_count": 9,
     "metadata": {},
     "output_type": "execute_result"
    }
   ],
   "source": [
    "3<<2"
   ]
  },
  {
   "cell_type": "markdown",
   "id": "b3129d2b",
   "metadata": {},
   "source": [
    "#### Bitwise Right Shift(>>) it gets divide by 2"
   ]
  },
  {
   "cell_type": "code",
   "execution_count": 10,
   "id": "e7900d3e",
   "metadata": {},
   "outputs": [
    {
     "data": {
      "text/plain": [
       "0"
      ]
     },
     "execution_count": 10,
     "metadata": {},
     "output_type": "execute_result"
    }
   ],
   "source": [
    "3>>4"
   ]
  },
  {
   "cell_type": "markdown",
   "id": "f5c6181d",
   "metadata": {},
   "source": [
    "#### bitwise negation operators ~x = -(x+1)"
   ]
  },
  {
   "cell_type": "code",
   "execution_count": 4,
   "id": "94e33d83",
   "metadata": {},
   "outputs": [
    {
     "data": {
      "text/plain": [
       "-5"
      ]
     },
     "execution_count": 4,
     "metadata": {},
     "output_type": "execute_result"
    }
   ],
   "source": [
    "~4"
   ]
  },
  {
   "cell_type": "code",
   "execution_count": 5,
   "id": "3301f631",
   "metadata": {},
   "outputs": [
    {
     "data": {
      "text/plain": [
       "-86"
      ]
     },
     "execution_count": 5,
     "metadata": {},
     "output_type": "execute_result"
    }
   ],
   "source": [
    "~85"
   ]
  },
  {
   "cell_type": "markdown",
   "id": "29af07cc",
   "metadata": {},
   "source": [
    " #### presedence ~(highest) ,<<  >>,&,^,|  (lowest)"
   ]
  },
  {
   "cell_type": "code",
   "execution_count": 12,
   "id": "51358aa5",
   "metadata": {},
   "outputs": [
    {
     "data": {
      "text/plain": [
       "111"
      ]
     },
     "execution_count": 12,
     "metadata": {},
     "output_type": "execute_result"
    }
   ],
   "source": [
    "101&100|11"
   ]
  },
  {
   "cell_type": "code",
   "execution_count": 13,
   "id": "2811cbf9",
   "metadata": {},
   "outputs": [
    {
     "data": {
      "text/plain": [
       "7"
      ]
     },
     "execution_count": 13,
     "metadata": {},
     "output_type": "execute_result"
    }
   ],
   "source": [
    "5&4|3"
   ]
  },
  {
   "cell_type": "markdown",
   "id": "a8ff2cee",
   "metadata": {},
   "source": [
    "## 7 <u>- Assigned operators"
   ]
  },
  {
   "cell_type": "code",
   "execution_count": 4,
   "id": "8042707e",
   "metadata": {},
   "outputs": [],
   "source": [
    "a=2 #ADD And ASSIGN\n",
    "b=4"
   ]
  },
  {
   "cell_type": "code",
   "execution_count": 5,
   "id": "8cfef1c1",
   "metadata": {},
   "outputs": [
    {
     "name": "stdout",
     "output_type": "stream",
     "text": [
      "6\n"
     ]
    }
   ],
   "source": [
    "a+=b\n",
    "print(a)"
   ]
  },
  {
   "cell_type": "code",
   "execution_count": 15,
   "id": "c824a00e",
   "metadata": {},
   "outputs": [],
   "source": [
    "a=5 #SUBSTRACT And ASSIGN\n",
    "b=6"
   ]
  },
  {
   "cell_type": "code",
   "execution_count": 16,
   "id": "2e696b3d",
   "metadata": {},
   "outputs": [
    {
     "name": "stdout",
     "output_type": "stream",
     "text": [
      "-1\n"
     ]
    }
   ],
   "source": [
    "a-=b\n",
    "print(a)"
   ]
  },
  {
   "cell_type": "code",
   "execution_count": 18,
   "id": "1003e18f",
   "metadata": {},
   "outputs": [],
   "source": [
    "a=10 #MULTIPLY And ASSIGN\n",
    "b=5"
   ]
  },
  {
   "cell_type": "code",
   "execution_count": 19,
   "id": "fc52c41d",
   "metadata": {},
   "outputs": [
    {
     "name": "stdout",
     "output_type": "stream",
     "text": [
      "50\n"
     ]
    }
   ],
   "source": [
    "a*=b\n",
    "print(a)"
   ]
  },
  {
   "cell_type": "code",
   "execution_count": 20,
   "id": "22a24286",
   "metadata": {},
   "outputs": [],
   "source": [
    "a=5 #DIVIDE And ASSIGN(pure)\n",
    "b=6"
   ]
  },
  {
   "cell_type": "code",
   "execution_count": 22,
   "id": "f7b65f9f",
   "metadata": {},
   "outputs": [
    {
     "name": "stdout",
     "output_type": "stream",
     "text": [
      "0.8333333333333334\n"
     ]
    }
   ],
   "source": [
    "a/=b\n",
    "print(a)"
   ]
  },
  {
   "cell_type": "code",
   "execution_count": 23,
   "id": "4ad80e3a",
   "metadata": {},
   "outputs": [],
   "source": [
    "a=50 #Floor division And Assign\n",
    "b=25"
   ]
  },
  {
   "cell_type": "code",
   "execution_count": 24,
   "id": "35c8d2e6",
   "metadata": {},
   "outputs": [
    {
     "name": "stdout",
     "output_type": "stream",
     "text": [
      "2\n"
     ]
    }
   ],
   "source": [
    "a//=b \n",
    "print(a)"
   ]
  },
  {
   "cell_type": "code",
   "execution_count": 25,
   "id": "e4e0e525",
   "metadata": {},
   "outputs": [],
   "source": [
    "a=8 #Modulous And Assign\n",
    "b=5"
   ]
  },
  {
   "cell_type": "code",
   "execution_count": 26,
   "id": "e472aa69",
   "metadata": {},
   "outputs": [
    {
     "name": "stdout",
     "output_type": "stream",
     "text": [
      "3\n"
     ]
    }
   ],
   "source": [
    "a%=b\n",
    "print(a)"
   ]
  },
  {
   "cell_type": "code",
   "execution_count": 27,
   "id": "3e3d731f",
   "metadata": {},
   "outputs": [],
   "source": [
    "a=10 #Bitwise & And Assign\n",
    "b=5"
   ]
  },
  {
   "cell_type": "code",
   "execution_count": 29,
   "id": "cf41a706",
   "metadata": {},
   "outputs": [
    {
     "name": "stdout",
     "output_type": "stream",
     "text": [
      "0\n"
     ]
    }
   ],
   "source": [
    "a&=b\n",
    "print(a)"
   ]
  },
  {
   "cell_type": "code",
   "execution_count": 30,
   "id": "d9b277dd",
   "metadata": {},
   "outputs": [],
   "source": [
    "a=10 #Bitwise ^ X or And Assign\n",
    "b=5"
   ]
  },
  {
   "cell_type": "code",
   "execution_count": 32,
   "id": "a3bb01d4",
   "metadata": {},
   "outputs": [
    {
     "name": "stdout",
     "output_type": "stream",
     "text": [
      "10\n"
     ]
    }
   ],
   "source": [
    "a^=b \n",
    "print(a)"
   ]
  },
  {
   "cell_type": "code",
   "execution_count": 37,
   "id": "d60474ae",
   "metadata": {},
   "outputs": [],
   "source": [
    "a=10 #Bitwise |  or Assign\n",
    "b=5"
   ]
  },
  {
   "cell_type": "code",
   "execution_count": 35,
   "id": "4689a3b8",
   "metadata": {},
   "outputs": [
    {
     "name": "stdout",
     "output_type": "stream",
     "text": [
      "15\n"
     ]
    }
   ],
   "source": [
    "a|=b\n",
    "print(a)"
   ]
  },
  {
   "cell_type": "code",
   "execution_count": 48,
   "id": "66fdcc77",
   "metadata": {},
   "outputs": [],
   "source": [
    "a=10\n",
    "b=5"
   ]
  },
  {
   "cell_type": "code",
   "execution_count": 49,
   "id": "929c6e30",
   "metadata": {},
   "outputs": [
    {
     "name": "stdout",
     "output_type": "stream",
     "text": [
      "320\n"
     ]
    }
   ],
   "source": [
    "a<<=b #bitwise right shift and assign\n",
    "print(a)"
   ]
  },
  {
   "cell_type": "code",
   "execution_count": 52,
   "id": "8ec2e9db",
   "metadata": {},
   "outputs": [],
   "source": [
    "a=10 # bitwise left shift and assign\n",
    "b=5"
   ]
  },
  {
   "cell_type": "code",
   "execution_count": 53,
   "id": "fd9c7f7e",
   "metadata": {},
   "outputs": [
    {
     "name": "stdout",
     "output_type": "stream",
     "text": [
      "10\n"
     ]
    }
   ],
   "source": [
    "a>>b\n",
    "print(a)"
   ]
  },
  {
   "cell_type": "code",
   "execution_count": null,
   "id": "3a42b289",
   "metadata": {},
   "outputs": [],
   "source": []
  }
 ],
 "metadata": {
  "kernelspec": {
   "display_name": "Python 3 (ipykernel)",
   "language": "python",
   "name": "python3"
  },
  "language_info": {
   "codemirror_mode": {
    "name": "ipython",
    "version": 3
   },
   "file_extension": ".py",
   "mimetype": "text/x-python",
   "name": "python",
   "nbconvert_exporter": "python",
   "pygments_lexer": "ipython3",
   "version": "3.11.3"
  }
 },
 "nbformat": 4,
 "nbformat_minor": 5
}

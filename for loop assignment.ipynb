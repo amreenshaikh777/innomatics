{
 "cells": [
  {
   "cell_type": "markdown",
   "id": "64e7964c",
   "metadata": {},
   "source": [
    "#### Q-3 Create a function that finds each factor of a given number n. Your solution should return a list of the number(s) that meet this criteria.\n",
    "\n",
    "Examples\n",
    "find_factors(9) ➞ [1, 3, 9]\n",
    "#9 has three factors 1,3"
   ]
  },
  {
   "cell_type": "code",
   "execution_count": 2,
   "id": "6bd555f9",
   "metadata": {},
   "outputs": [
    {
     "name": "stdout",
     "output_type": "stream",
     "text": [
      "enter the number12\n",
      "[1, 2, 3, 4, 6, 12]\n"
     ]
    }
   ],
   "source": [
    "x=int(input('enter the number'))\n",
    "y=[]\n",
    "for i in range(1,x+1):\n",
    "    if x%i==0:\n",
    "        y.append(i)   \n",
    "print(y)\n"
   ]
  },
  {
   "cell_type": "markdown",
   "id": "bede2a9a",
   "metadata": {},
   "source": [
    "#### Q=> 18 Create a function that takes a number n and returns the sum of all square numbers up to and including n.\n",
    "\n",
    "squares_sum(3) ➞ 14\n",
    "#1² + 2² + 3² =\n",
    "#1 + 4 + 9 =\n",
    "#14"
   ]
  },
  {
   "cell_type": "markdown",
   "id": "30733269",
   "metadata": {},
   "source": [
    "### "
   ]
  },
  {
   "cell_type": "code",
   "execution_count": 14,
   "id": "54cea8f7",
   "metadata": {},
   "outputs": [
    {
     "name": "stdout",
     "output_type": "stream",
     "text": [
      "enter the number4\n",
      "30\n"
     ]
    }
   ],
   "source": [
    "x=int(input('enter the number'))\n",
    "sum_total=0      \n",
    "for i in range (1,x+1):\n",
    "      sum_total+=i**2\n",
    "print(sum_total)   \n"
   ]
  },
  {
   "cell_type": "code",
   "execution_count": 12,
   "id": "2e074aaf",
   "metadata": {},
   "outputs": [
    {
     "name": "stdout",
     "output_type": "stream",
     "text": [
      "The sum of squares of first 5 natural numbers is 55\n"
     ]
    }
   ],
   "source": [
    "n = 5\n",
    "sum = 0\n",
    "for i in range(1, n+1):\n",
    "\tsum += i**2\n",
    "\n",
    "print(\"The sum of squares of first\", n, \"natural numbers is\", sum)\n"
   ]
  },
  {
   "cell_type": "markdown",
   "id": "54ed16e0",
   "metadata": {},
   "source": [
    "#### Given a list of numbers, negate all elements contained within.\n",
    "\n",
    "Negating a positive value -+n will return -n, because all +'s are removed.\n",
    "Negating a negative value --n will return n, because the first - turns the second minus into a +.\n",
    "Examples\n",
    "negate([1, 2, 3, 4]) ➞ [-1, -2, -3, -4]\n",
    "\n",
    "negate([-1, 2, -3, 4]) ➞ [1, -2, 3, -4]"
   ]
  },
  {
   "cell_type": "code",
   "execution_count": 4,
   "id": "6d9d512d",
   "metadata": {},
   "outputs": [
    {
     "name": "stdout",
     "output_type": "stream",
     "text": [
      "[1, 2, 3, -4, -5]\n"
     ]
    }
   ],
   "source": [
    "n=[-1,-2,-3,4,5]\n",
    "for i in range(len(n)):\n",
    "    n[i]=-n[i]\n",
    "print(n)"
   ]
  },
  {
   "cell_type": "code",
   "execution_count": 3,
   "id": "bebd1c7c",
   "metadata": {},
   "outputs": [
    {
     "name": "stdout",
     "output_type": "stream",
     "text": [
      "[-1, -2, 3, -4]\n"
     ]
    }
   ],
   "source": [
    "x= [1,2,-3,4]\n",
    "for i in range(len(x)):\n",
    "         x[i] = -(x[i])\n",
    "print(x)"
   ]
  },
  {
   "cell_type": "markdown",
   "id": "c4805cce",
   "metadata": {},
   "source": [
    "#### number added with its additive inverse equals zero. Create a function that returns a list of additive inverses.\n",
    "\n",
    "Examples\n",
    "additive_inverse([5, -7, 8, 3]) ➞ [-5, 7, -8, -3]\n",
    "\n",
    "additive_inverse([1, 1, 1, 1, 1]) ➞ [-1, -1, -1, -1, -1]\n",
    "\n",
    "additive_inverse([-5, -25, 35]) ➞ [5, 25, -35]\n",
    "Notes"
   ]
  },
  {
   "cell_type": "code",
   "execution_count": 5,
   "id": "6dda2e9e",
   "metadata": {},
   "outputs": [
    {
     "name": "stdout",
     "output_type": "stream",
     "text": [
      "[1, 2, 3, -4, -5, -6]\n"
     ]
    }
   ],
   "source": [
    "n=[-1,-2,-3,4,5,6]\n",
    "for i in range(len(n)):\n",
    "    n[i] = -(n[i])\n",
    "print(n)    "
   ]
  },
  {
   "cell_type": "markdown",
   "id": "dba527c1",
   "metadata": {},
   "source": [
    "#### Write a function that takes the last number of a consecutive list of numbers and returns the total of all numbers up to and including it.\n",
    "\n",
    "Examples\n",
    "add_up_to(3) ➞ 6\n",
    "#1 + 2 + 3 = 6\n",
    "\n",
    "add_up_to(10) ➞ 55\n",
    "#1 + 2 + 3 + ... + 10 = 55\n",
    "\n",
    "add_up_to(7) ➞ 28"
   ]
  },
  {
   "cell_type": "code",
   "execution_count": 15,
   "id": "6ce3fcd3",
   "metadata": {},
   "outputs": [
    {
     "name": "stdout",
     "output_type": "stream",
     "text": [
      "enter the number10\n",
      "55\n"
     ]
    }
   ],
   "source": [
    "x=int(input('enter the number'))\n",
    "sum_total=0\n",
    "i=0\n",
    "for i in range(x+1):\n",
    "    sum_total+=i\n",
    "print(sum_total)\n",
    "    "
   ]
  },
  {
   "cell_type": "markdown",
   "id": "2c6dd9c6",
   "metadata": {},
   "source": [
    "#### Create a function that takes two parameters (start, stop), and returns the sum of all even numbers in the range.\n",
    "\n",
    "Examples\n",
    "sum_even_nums_in_range(10, 20) ➞ 90\n",
    "#10, 12, 14, 16, 18, 20"
   ]
  },
  {
   "cell_type": "code",
   "execution_count": 21,
   "id": "d0e5c325",
   "metadata": {},
   "outputs": [
    {
     "name": "stdout",
     "output_type": "stream",
     "text": [
      "120\n"
     ]
    }
   ],
   "source": [
    "even_total=0\n",
    "for i in range(20,30):\n",
    "    if i%2==0:\n",
    "        even_total+=i\n",
    "print(even_total)\n",
    "        "
   ]
  },
  {
   "cell_type": "markdown",
   "id": "4664eeb1",
   "metadata": {},
   "source": [
    "#### A palindrome is a word that is identical forward and backwards.\n",
    "\n",
    "mom\n",
    "racecar\n",
    "kayak\n",
    "Given a word, create a function that checks whether it is a palindrome.\n",
    "\n",
    "Examples\n",
    "is_palindrome(\"mom\") ➞ True\n",
    "\n",
    "is_palindrome(\"scary\") ➞ False\n"
   ]
  },
  {
   "cell_type": "code",
   "execution_count": 22,
   "id": "6b4bfc78",
   "metadata": {},
   "outputs": [
    {
     "name": "stdout",
     "output_type": "stream",
     "text": [
      "enter a string:mom\n",
      "True\n"
     ]
    }
   ],
   "source": [
    "x=input('enter a string:')\n",
    "y = x[::-1]\n",
    "if x == y:\n",
    "    print('True')\n",
    "else:\n",
    "    print('False')"
   ]
  },
  {
   "cell_type": "code",
   "execution_count": 1,
   "id": "873062c0",
   "metadata": {},
   "outputs": [
    {
     "name": "stdout",
     "output_type": "stream",
     "text": [
      "enter a stringmom\n"
     ]
    },
    {
     "ename": "TypeError",
     "evalue": "can only join an iterable",
     "output_type": "error",
     "traceback": [
      "\u001b[1;31m---------------------------------------------------------------------------\u001b[0m",
      "\u001b[1;31mTypeError\u001b[0m                                 Traceback (most recent call last)",
      "Cell \u001b[1;32mIn[1], line 3\u001b[0m\n\u001b[0;32m      1\u001b[0m x \u001b[38;5;241m=\u001b[39m \u001b[38;5;28minput\u001b[39m(\u001b[38;5;124m'\u001b[39m\u001b[38;5;124menter a string\u001b[39m\u001b[38;5;124m'\u001b[39m)\n\u001b[0;32m      2\u001b[0m y \u001b[38;5;241m=\u001b[39m [ele \u001b[38;5;28;01mfor\u001b[39;00m ele \u001b[38;5;129;01min\u001b[39;00m x]\n\u001b[1;32m----> 3\u001b[0m z \u001b[38;5;241m=\u001b[39m \u001b[38;5;124m'\u001b[39m\u001b[38;5;124m'\u001b[39m\u001b[38;5;241m.\u001b[39mjoin(y\u001b[38;5;241m.\u001b[39mreverse())\n",
      "\u001b[1;31mTypeError\u001b[0m: can only join an iterable"
     ]
    }
   ],
   "source": [
    "x = input('enter a string')\n",
    "y = [ele for ele in x]\n",
    "z = ''.join(y.reverse())\n"
   ]
  },
  {
   "cell_type": "markdown",
   "id": "fd5ab052",
   "metadata": {},
   "source": [
    "#### Q=>23 Implement a function that returns a list containing all the consecutive numbers in ascendant order from the given value low up to the given value high (bounds included).\n",
    "\n",
    "Examples\n",
    "get_sequence(1, 5) ➞ [1, 2, 3, 4, 5]\n"
   ]
  },
  {
   "cell_type": "code",
   "execution_count": 8,
   "id": "e93d4584",
   "metadata": {},
   "outputs": [
    {
     "data": {
      "text/plain": [
       "[1, 2, 3, 4, 5]"
      ]
     },
     "execution_count": 8,
     "metadata": {},
     "output_type": "execute_result"
    }
   ],
   "source": [
    "list(i for i in range(1,5+1))"
   ]
  },
  {
   "cell_type": "markdown",
   "id": "b7b1d458",
   "metadata": {},
   "source": [
    "#### Q=>24 Create a function that finds the index of a given item.\n",
    "\n",
    "Examples\n",
    "search([1, 5, 3], 5) ➞ 1"
   ]
  },
  {
   "cell_type": "code",
   "execution_count": 11,
   "id": "2a630aaf",
   "metadata": {},
   "outputs": [
    {
     "name": "stdout",
     "output_type": "stream",
     "text": [
      "enter the number from the list:5\n",
      "4\n"
     ]
    }
   ],
   "source": [
    "x=[1,3,9,7,5]\n",
    "y=int(input(\"enter the number from the list:\"))\n",
    "for i in range(len(x)):\n",
    "    if y == x[i]:\n",
    "        print(i)"
   ]
  },
  {
   "cell_type": "markdown",
   "id": "fca5d4c0",
   "metadata": {},
   "source": [
    "#### Q=> 25 Given a string of letters, how many capital letters are there?\n",
    "\n",
    "Examples\n",
    "capital_letters(\"fvLzpxmgXSDrobbgMVrc\") ➞ 6\n"
   ]
  },
  {
   "cell_type": "code",
   "execution_count": 10,
   "id": "04f850e1",
   "metadata": {},
   "outputs": [
    {
     "name": "stdout",
     "output_type": "stream",
     "text": [
      "enter the string:fvLzpxmgXSDrobbgMVrc\n",
      "6\n"
     ]
    }
   ],
   "source": [
    "x=input('enter the string:')\n",
    "count=0\n",
    "for i in range(len(x)):\n",
    "    if x[i].isupper():\n",
    "        count+=1\n",
    "print(count)\n",
    "        "
   ]
  },
  {
   "cell_type": "markdown",
   "id": "11403da6",
   "metadata": {},
   "source": [
    "#### Q=>26 Create a function that takes a number num and returns the first 10 multiples of num with 1 added to it, separated by commas.\n",
    "\n",
    "Examples\n",
    "n_tables_plus_one(7) ➞ \"8,15,22,29,36,43,50,57,64,71\"\n"
   ]
  },
  {
   "cell_type": "code",
   "execution_count": 8,
   "id": "e68dca5c",
   "metadata": {},
   "outputs": [
    {
     "name": "stdout",
     "output_type": "stream",
     "text": [
      "enter the number3\n",
      "4\n",
      "7\n",
      "10\n",
      "13\n",
      "16\n",
      "19\n",
      "22\n",
      "25\n",
      "28\n",
      "31\n"
     ]
    }
   ],
   "source": [
    "x=int(input('enter the number'))\n",
    "for i in range(1,11):\n",
    "    y=i*x+1\n",
    "    print(y)"
   ]
  },
  {
   "cell_type": "code",
   "execution_count": null,
   "id": "e45592ab",
   "metadata": {},
   "outputs": [],
   "source": []
  },
  {
   "cell_type": "code",
   "execution_count": 13,
   "id": "ceb441b1",
   "metadata": {},
   "outputs": [
    {
     "name": "stdout",
     "output_type": "stream",
     "text": [
      "['cleverly', 'meekly', 'hurriedly', 'nicely']\n"
     ]
    }
   ],
   "source": [
    "x=[\"clever\", \"meek\", \"hurried\", \"nice\"]\n",
    "y=[]\n",
    "for i in  x :\n",
    "    y.append(i+'ly')\n",
    "    \n",
    "print(y)"
   ]
  },
  {
   "cell_type": "markdown",
   "id": "6b2b6b89",
   "metadata": {},
   "source": [
    "### Q=> 28Create a function that takes a list of numbers and returns the sum of its cubes.\n",
    "\n",
    "Examples\n",
    "sum_of_cubes([1, 5, 9]) ➞ 855\n",
    "#Since 1^3 + 5^3 + 9^3 = 1 + 125 + 729 = 855\n",
    "\n",
    "sum_of_cubes([3, 4, 5]) ➞ 216\n"
   ]
  },
  {
   "cell_type": "code",
   "execution_count": 17,
   "id": "f1c207eb",
   "metadata": {},
   "outputs": [
    {
     "data": {
      "text/plain": [
       "1044"
      ]
     },
     "execution_count": 17,
     "metadata": {},
     "output_type": "execute_result"
    }
   ],
   "source": [
    "x=[5,4,7,8]\n",
    "y=[]\n",
    "for i in x:\n",
    "    y.append(i**3)\n",
    "sum(y)    \n",
    "    "
   ]
  },
  {
   "cell_type": "code",
   "execution_count": null,
   "id": "31e4881e",
   "metadata": {},
   "outputs": [],
   "source": []
  },
  {
   "cell_type": "markdown",
   "id": "74d90e3e",
   "metadata": {},
   "source": [
    "#### Q=>30Create a function that takes a number as an argument and returns a list of numbers counting down from this number to zero.\n",
    "\n",
    "Examples\n",
    "countdown(5) ➞ [5, 4, 3, 2, 1, 0]"
   ]
  },
  {
   "cell_type": "code",
   "execution_count": 1,
   "id": "fb449b54",
   "metadata": {},
   "outputs": [
    {
     "name": "stdout",
     "output_type": "stream",
     "text": [
      "enter the number10\n",
      "[10, 9, 8, 7, 6, 5, 4, 3, 2, 1, 0]\n"
     ]
    }
   ],
   "source": [
    "x=int(input(\"enter the number\"))\n",
    "y=[]\n",
    "for i in range(0,x+1):\n",
    "    y.append(x-i)\n",
    "print(y)    \n",
    "    "
   ]
  },
  {
   "cell_type": "markdown",
   "id": "ee3b76ba",
   "metadata": {},
   "source": [
    "#### Q=>31 Create a function that takes a string road and returns the car that's in first place. The road will be made of \"=\", and cars will be represented by letters in the alphabet.\n",
    "\n",
    "Examples\n",
    "first_place(\"====b===O===e===U=A==\") ➞ \"A\""
   ]
  },
  {
   "cell_type": "code",
   "execution_count": null,
   "id": "f7cf4887",
   "metadata": {},
   "outputs": [],
   "source": [
    "for "
   ]
  },
  {
   "cell_type": "markdown",
   "id": "c44e594d",
   "metadata": {},
   "source": [
    "### Q=>32 A value is omnipresent if it exists in every sublist inside the main list.\n",
    "\n",
    "To illustrate:\n",
    "\n",
    "[[3, 4], [8, 3, 2], [3], [9, 3], [5, 3], [4, 3]]\n",
    "#3 exists in every element inside this list, so is omnipresent.\n",
    "Create a function that determines whether an input value is omnipresent for a given list.\n",
    "\n",
    "Examples\n",
    "is_omnipresent([[1, 1], [1, 3], [5, 1], [6, 1]], 1) ➞ True\n",
    "\n",
    "is_omnipresent([[1, 1], [1, 3], [5, 1], [6, 1]], 6) ➞ False\n"
   ]
  },
  {
   "cell_type": "code",
   "execution_count": 5,
   "id": "63054eb9",
   "metadata": {},
   "outputs": [
    {
     "name": "stdout",
     "output_type": "stream",
     "text": [
      "enter the number3\n",
      "omnipresent\n"
     ]
    }
   ],
   "source": [
    "x=int(input('enter the number'))\n",
    "y=[[3, 4], [8, 3, 2], [3], [9, 3], [5, 3], [4, 3]]\n",
    "z=True\n",
    "for i in y:\n",
    "    if x in i:\n",
    "        z= z and True\n",
    "    else:\n",
    "        z=z and False\n",
    "if z== True:\n",
    "    print('omnipresent')\n",
    "else:\n",
    "    print('not omnipresent')"
   ]
  },
  {
   "cell_type": "markdown",
   "id": "40dca1b5",
   "metadata": {},
   "source": [
    "#### Q=>33 Create a function that takes a number as its argument and returns a list of all its factors.\n",
    "Examples\n",
    "factorize(12) ➞ [1, 2, 3, 4, 6, 12]"
   ]
  },
  {
   "cell_type": "code",
   "execution_count": 1,
   "id": "b2143cd9",
   "metadata": {},
   "outputs": [
    {
     "name": "stdout",
     "output_type": "stream",
     "text": [
      "enter a number12\n",
      "[1, 2, 3, 4, 6, 12]\n"
     ]
    }
   ],
   "source": [
    "x=int(input('enter a number'))\n",
    "factors=[]\n",
    "for i in range(1,x+1):\n",
    "    if x%i==0:\n",
    "        factors.append(i)\n",
    "print(factors)"
   ]
  },
  {
   "cell_type": "markdown",
   "id": "f24e4b82",
   "metadata": {},
   "source": [
    "#### Q=> 34 Create a function to multiply all of the values in a list by the amount of values in the given list.\n",
    "Examples\n",
    "multiply_by_length([2, 3, 1, 0]) ➞ [8, 12, 4, 0]"
   ]
  },
  {
   "cell_type": "code",
   "execution_count": 2,
   "id": "86b44c68",
   "metadata": {},
   "outputs": [
    {
     "name": "stdout",
     "output_type": "stream",
     "text": [
      "[8, 12, 4, 0]\n"
     ]
    }
   ],
   "source": [
    "x=[2, 3, 1, 0]\n",
    "y=[]\n",
    "for i in x:\n",
    "    y.append(i*len(x))\n",
    "print(y)"
   ]
  },
  {
   "cell_type": "markdown",
   "id": "c9e73e3e",
   "metadata": {},
   "source": [
    "#### Q 37. Create a function that takes a string and returns the number (count) of vowels contained within it.\n",
    "Examples\n",
    "count_vowels(\"Celebration\") ➞ 5"
   ]
  },
  {
   "cell_type": "code",
   "execution_count": null,
   "id": "d24e1380",
   "metadata": {},
   "outputs": [],
   "source": [
    "x = input(\"Enter a string: \")\n",
    "vowels = {'a', 'e', 'i', 'o', 'u'}\n",
    "for i in len(x):\n",
    "    if x[i] in vowels:\n",
    "        y += 1\n",
    "print(\"vowels in string: \", y)"
   ]
  },
  {
   "cell_type": "markdown",
   "id": "103dde5a",
   "metadata": {},
   "source": [
    "#### Q 38. Create a function which concatenates the number 7 to the end of every chord in a list. Ignore all chords which already end with 7.\n",
    "Examples\n",
    "\n",
    "jazzify([\"G\", \"F\", \"C\"]) ➞ [\"G7\", \"F7\", \"C7\"]"
   ]
  },
  {
   "cell_type": "code",
   "execution_count": 1,
   "id": "5ef7db42",
   "metadata": {},
   "outputs": [
    {
     "name": "stdout",
     "output_type": "stream",
     "text": [
      "['G7', 'F7', 'C7']\n"
     ]
    }
   ],
   "source": [
    "x = [\"G\", \"F\", \"C\"]\n",
    "z = []\n",
    "for i in x:\n",
    "    z.append(i+\"7\")\n",
    "print(z)\n"
   ]
  },
  {
   "cell_type": "markdown",
   "id": "d451dcfc",
   "metadata": {},
   "source": [
    "#### Q 39. Create a function that takes an array of values resistance that are connected in series, and calculates the total resistance of the circuit in ohms. The ohm is the standard unit of electrical resistance in the International System of Units ( SI ).\n",
    "Examples\n",
    "series_resistance([1, 5, 6, 3]) ➞ \"15 ohms\""
   ]
  },
  {
   "cell_type": "code",
   "execution_count": 2,
   "id": "fa8be9c2",
   "metadata": {},
   "outputs": [
    {
     "name": "stdout",
     "output_type": "stream",
     "text": [
      "22\n"
     ]
    }
   ],
   "source": [
    "x = [3,5,8,6]\n",
    "resistance = 0\n",
    "i= 0\n",
    "while i< len(x):\n",
    "    resistance += x[i]\n",
    "    i+= 1\n",
    "print(resistance)"
   ]
  },
  {
   "cell_type": "markdown",
   "id": "4da90622",
   "metadata": {},
   "source": [
    "#### Q 40. implement a function that returns a list containing all the consecutive numbers in ascendant order from the given value low up to the given value high (bounds included).\n",
    "Examples\n",
    "get_sequence(1, 5) ➞ [1, 2, 3, 4, 5]"
   ]
  },
  {
   "cell_type": "code",
   "execution_count": 3,
   "id": "def5407e",
   "metadata": {},
   "outputs": [
    {
     "name": "stdout",
     "output_type": "stream",
     "text": [
      "enter start number1\n",
      "enter end number6\n",
      "[1, 2, 3, 4, 5, 6]\n"
     ]
    }
   ],
   "source": [
    "start=int(input('enter start number'))\n",
    "end=int(input('enter end number'))\n",
    "result=[]\n",
    "i=start\n",
    "while i<=end:\n",
    "    result.append(i)\n",
    "    i+=1\n",
    "print(result)"
   ]
  },
  {
   "cell_type": "markdown",
   "id": "2701c73e",
   "metadata": {},
   "source": [
    "#### Q 41. Write a function that turns a comma-delimited list into an array of strings.\n",
    "Examples:\n",
    "\n",
    "to_array(\"watermelon, raspberry, orange\") ➞ [\"watermelon\", \"raspberry\", \"orange\""
   ]
  },
  {
   "cell_type": "code",
   "execution_count": 4,
   "id": "7b9e0332",
   "metadata": {},
   "outputs": [
    {
     "name": "stdout",
     "output_type": "stream",
     "text": [
      "['watermelon', ' raspberry', ' orange']\n"
     ]
    }
   ],
   "source": [
    "x = \"watermelon, raspberry, orange\"\n",
    "y = x.split(\",\")\n",
    "print(f'{y}')"
   ]
  },
  {
   "cell_type": "markdown",
   "id": "0cf1fe79",
   "metadata": {},
   "source": [
    "#### Q 48.Create a function that takes a number as its argument and returns a list of all its factors.\n",
    "Examples\n",
    "factorize(12) ➞ [1, 2, 3, 4, 6, 12]"
   ]
  },
  {
   "cell_type": "code",
   "execution_count": 5,
   "id": "4e72c923",
   "metadata": {},
   "outputs": [
    {
     "name": "stdout",
     "output_type": "stream",
     "text": [
      "enter a number12\n",
      "[1, 2, 3, 4, 6, 12]\n"
     ]
    }
   ],
   "source": [
    "x=int(input('enter a number'))\n",
    "factors=[]\n",
    "for i in range(1,x+1):\n",
    "    if x%i==0:\n",
    "        factors.append(i)\n",
    "print(factors)"
   ]
  },
  {
   "cell_type": "code",
   "execution_count": null,
   "id": "304520a4",
   "metadata": {},
   "outputs": [],
   "source": []
  }
 ],
 "metadata": {
  "kernelspec": {
   "display_name": "Python 3 (ipykernel)",
   "language": "python",
   "name": "python3"
  },
  "language_info": {
   "codemirror_mode": {
    "name": "ipython",
    "version": 3
   },
   "file_extension": ".py",
   "mimetype": "text/x-python",
   "name": "python",
   "nbconvert_exporter": "python",
   "pygments_lexer": "ipython3",
   "version": "3.11.4"
  }
 },
 "nbformat": 4,
 "nbformat_minor": 5
}

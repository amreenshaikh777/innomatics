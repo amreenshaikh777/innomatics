{
 "cells": [
  {
   "cell_type": "markdown",
   "id": "5ef498a0",
   "metadata": {},
   "source": [
    "Create a program that simulates a basic ATM transaction. Ask the user for their account balance and the amount they want to withdraw. If the balance is sufficient, deduct the withdrawal amount and print the new balance. If the balance is insufficient, print \"Insufficient funds\", and new balance should not be lessthan 1000."
   ]
  },
  {
   "cell_type": "code",
   "execution_count": 7,
   "id": "f4d39be3",
   "metadata": {},
   "outputs": [],
   "source": [
    "import time\n",
    "from time import time"
   ]
  },
  {
   "cell_type": "code",
   "execution_count": 8,
   "id": "4859617b",
   "metadata": {},
   "outputs": [
    {
     "name": "stdout",
     "output_type": "stream",
     "text": [
      "account balance6000\n",
      "amount you want to withdraw5500\n",
      "freeze amount should be 1000\n",
      "0.0\n"
     ]
    }
   ],
   "source": [
    "x=int(input('account balance'))\n",
    "y=int(input('amount you want to withdraw'))\n",
    "start=time()\n",
    "if x >= y:\n",
    "    if(x-y >=1000):\n",
    "        print(x-y)\n",
    "    else:\n",
    "         print(\"freeze amount should be 1000\")\n",
    "else:\n",
    "    print('insufficient funds')\n",
    "end=time()\n",
    "print(end-start)"
   ]
  },
  {
   "cell_type": "code",
   "execution_count": 10,
   "id": "5a2b655b",
   "metadata": {},
   "outputs": [
    {
     "name": "stdout",
     "output_type": "stream",
     "text": [
      "account balance6000\n",
      "amount you want to withdraw5500\n",
      "freeze amount should be 1000\n",
      "0.0\n"
     ]
    }
   ],
   "source": [
    "x=int(input('account balance'))\n",
    "y=int(input('amount you want to withdraw'))\n",
    "start=time()\n",
    "if (x-y >=1000):\n",
    "    print(x-y)\n",
    "elif x >= y:\n",
    "    print(\"freeze amount should be 1000\")\n",
    "else:\n",
    "    print('insufficient funds')\n",
    "end=time()\n",
    "print(end-start)"
   ]
  },
  {
   "cell_type": "code",
   "execution_count": null,
   "id": "07c0cfbd",
   "metadata": {},
   "outputs": [],
   "source": []
  }
 ],
 "metadata": {
  "kernelspec": {
   "display_name": "Python 3 (ipykernel)",
   "language": "python",
   "name": "python3"
  },
  "language_info": {
   "codemirror_mode": {
    "name": "ipython",
    "version": 3
   },
   "file_extension": ".py",
   "mimetype": "text/x-python",
   "name": "python",
   "nbconvert_exporter": "python",
   "pygments_lexer": "ipython3",
   "version": "3.11.3"
  }
 },
 "nbformat": 4,
 "nbformat_minor": 5
}

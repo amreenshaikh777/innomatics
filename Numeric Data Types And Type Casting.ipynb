{
 "cells": [
  {
   "cell_type": "markdown",
   "id": "ee432022",
   "metadata": {},
   "source": [
    "# Numeric Data Types"
   ]
  },
  {
   "cell_type": "markdown",
   "id": "be69b192",
   "metadata": {},
   "source": [
    "#### There are three distinct numeric types: integers, floating point numbers, and complex numbers. In addition, Booleans are a subtype of integers.Integers have unlimited precision"
   ]
  },
  {
   "cell_type": "markdown",
   "id": "4167af65",
   "metadata": {},
   "source": [
    "#### 1 Integers-This value is represented by int.class It contains positive or  Negative whole numbers (without fraction or decimals )In Python there is no limit how long an integer value can be\n",
    "\n",
    "\n"
   ]
  },
  {
   "cell_type": "code",
   "execution_count": 2,
   "id": "02fde76f",
   "metadata": {},
   "outputs": [],
   "source": [
    "a=5"
   ]
  },
  {
   "cell_type": "code",
   "execution_count": 3,
   "id": "43f80fba",
   "metadata": {},
   "outputs": [
    {
     "data": {
      "text/plain": [
       "int"
      ]
     },
     "execution_count": 3,
     "metadata": {},
     "output_type": "execute_result"
    }
   ],
   "source": [
    "type(a)"
   ]
  },
  {
   "cell_type": "markdown",
   "id": "d7119850",
   "metadata": {},
   "source": [
    "#### Float – This value is represented by the float class. It is a real number with a floating-point representation. It is specified by a decimal point. Optionally, the character e or E followed by a positive or negative integer may be appended to specify scientific notation."
   ]
  },
  {
   "cell_type": "code",
   "execution_count": 7,
   "id": "67e8fd67",
   "metadata": {},
   "outputs": [],
   "source": [
    "a=8.8"
   ]
  },
  {
   "cell_type": "code",
   "execution_count": 8,
   "id": "67fd68ff",
   "metadata": {},
   "outputs": [
    {
     "data": {
      "text/plain": [
       "float"
      ]
     },
     "execution_count": 8,
     "metadata": {},
     "output_type": "execute_result"
    }
   ],
   "source": [
    "type(a)"
   ]
  },
  {
   "cell_type": "code",
   "execution_count": 10,
   "id": "579c43c8",
   "metadata": {},
   "outputs": [
    {
     "data": {
      "text/plain": [
       "8"
      ]
     },
     "execution_count": 10,
     "metadata": {},
     "output_type": "execute_result"
    }
   ],
   "source": [
    "int(a)"
   ]
  },
  {
   "cell_type": "code",
   "execution_count": 11,
   "id": "cb23fbe0",
   "metadata": {},
   "outputs": [
    {
     "data": {
      "text/plain": [
       "(8.8+0j)"
      ]
     },
     "execution_count": 11,
     "metadata": {},
     "output_type": "execute_result"
    }
   ],
   "source": [
    "complex(a)"
   ]
  },
  {
   "cell_type": "markdown",
   "id": "4177cb56",
   "metadata": {},
   "source": [
    "#### Complex Numbers – Complex number is represented by a complex class. It is specified as (real part) + (imaginary part)j. For example – 2+3j"
   ]
  },
  {
   "cell_type": "code",
   "execution_count": 12,
   "id": "775f4872",
   "metadata": {},
   "outputs": [],
   "source": [
    "z=8+9j"
   ]
  },
  {
   "cell_type": "code",
   "execution_count": 13,
   "id": "318dad28",
   "metadata": {},
   "outputs": [
    {
     "data": {
      "text/plain": [
       "8.0"
      ]
     },
     "execution_count": 13,
     "metadata": {},
     "output_type": "execute_result"
    }
   ],
   "source": [
    "z.real"
   ]
  },
  {
   "cell_type": "code",
   "execution_count": 14,
   "id": "c65b6c1f",
   "metadata": {},
   "outputs": [
    {
     "data": {
      "text/plain": [
       "9.0"
      ]
     },
     "execution_count": 14,
     "metadata": {},
     "output_type": "execute_result"
    }
   ],
   "source": [
    "z.imag"
   ]
  },
  {
   "cell_type": "code",
   "execution_count": 15,
   "id": "2b808e23",
   "metadata": {},
   "outputs": [
    {
     "data": {
      "text/plain": [
       "complex"
      ]
     },
     "execution_count": 15,
     "metadata": {},
     "output_type": "execute_result"
    }
   ],
   "source": [
    "type(z)"
   ]
  },
  {
   "cell_type": "markdown",
   "id": "832e0b04",
   "metadata": {},
   "source": [
    "## Type casting"
   ]
  },
  {
   "cell_type": "markdown",
   "id": "4ac17fb8",
   "metadata": {},
   "source": [
    "####  conversion of one data type into the other data type is known as type casting in python or type conversion in python. Python supports a wide variety of functions or methods like: int(), float(), str(), ord(), hex(), oct(), tuple(), set(), list(), dict(), etc. for the type casting in python."
   ]
  },
  {
   "cell_type": "markdown",
   "id": "309aaff8",
   "metadata": {},
   "source": [
    "#### There are two varieties of typecasting in python namely\n",
    "#### 1-- Explicit Conversion:- The conversion of one data type into another, done via user intervention or manually as per the requirement, is known as explicit type conversion\n",
    "#### 2--Implict conversion;-Python automatically converts one data type to another data type without any user's need; "
   ]
  },
  {
   "cell_type": "code",
   "execution_count": 20,
   "id": "df1cbd0a",
   "metadata": {},
   "outputs": [],
   "source": [
    "#string to int(intrger)\n",
    "a=\"80\""
   ]
  },
  {
   "cell_type": "code",
   "execution_count": 21,
   "id": "a8c90f53",
   "metadata": {},
   "outputs": [
    {
     "data": {
      "text/plain": [
       "80"
      ]
     },
     "execution_count": 21,
     "metadata": {},
     "output_type": "execute_result"
    }
   ],
   "source": [
    "int(a)"
   ]
  },
  {
   "cell_type": "code",
   "execution_count": 22,
   "id": "51eff663",
   "metadata": {},
   "outputs": [],
   "source": [
    "#integer to string\n",
    "y=10"
   ]
  },
  {
   "cell_type": "code",
   "execution_count": 23,
   "id": "3d7e87f7",
   "metadata": {},
   "outputs": [
    {
     "data": {
      "text/plain": [
       "'10'"
      ]
     },
     "execution_count": 23,
     "metadata": {},
     "output_type": "execute_result"
    }
   ],
   "source": [
    "str(y)"
   ]
  },
  {
   "cell_type": "code",
   "execution_count": 24,
   "id": "8916be43",
   "metadata": {},
   "outputs": [],
   "source": [
    "#integer to float\n",
    "x=50"
   ]
  },
  {
   "cell_type": "code",
   "execution_count": 25,
   "id": "36be6cbb",
   "metadata": {},
   "outputs": [
    {
     "data": {
      "text/plain": [
       "50.0"
      ]
     },
     "execution_count": 25,
     "metadata": {},
     "output_type": "execute_result"
    }
   ],
   "source": [
    "float(x)"
   ]
  },
  {
   "cell_type": "code",
   "execution_count": 28,
   "id": "4ee1d7a7",
   "metadata": {},
   "outputs": [],
   "source": [
    "#float to integer\n",
    "a=15.5"
   ]
  },
  {
   "cell_type": "code",
   "execution_count": 29,
   "id": "2ec6d44c",
   "metadata": {},
   "outputs": [
    {
     "data": {
      "text/plain": [
       "15"
      ]
     },
     "execution_count": 29,
     "metadata": {},
     "output_type": "execute_result"
    }
   ],
   "source": [
    "int(a)"
   ]
  },
  {
   "cell_type": "code",
   "execution_count": 30,
   "id": "5f308cd7",
   "metadata": {},
   "outputs": [],
   "source": [
    "#float to string\n",
    "a=40.5"
   ]
  },
  {
   "cell_type": "code",
   "execution_count": 31,
   "id": "20394f35",
   "metadata": {},
   "outputs": [
    {
     "data": {
      "text/plain": [
       "'40'"
      ]
     },
     "execution_count": 31,
     "metadata": {},
     "output_type": "execute_result"
    }
   ],
   "source": [
    "str(a)"
   ]
  },
  {
   "cell_type": "code",
   "execution_count": 33,
   "id": "29b8b7ec",
   "metadata": {},
   "outputs": [],
   "source": [
    "#complex to integer\n",
    "a=25+5j"
   ]
  },
  {
   "cell_type": "code",
   "execution_count": 36,
   "id": "a02e571d",
   "metadata": {},
   "outputs": [
    {
     "data": {
      "text/plain": [
       "25.0"
      ]
     },
     "execution_count": 36,
     "metadata": {},
     "output_type": "execute_result"
    }
   ],
   "source": [
    "a.real"
   ]
  },
  {
   "cell_type": "code",
   "execution_count": 37,
   "id": "2382de94",
   "metadata": {},
   "outputs": [
    {
     "data": {
      "text/plain": [
       "5.0"
      ]
     },
     "execution_count": 37,
     "metadata": {},
     "output_type": "execute_result"
    }
   ],
   "source": [
    "a.imag"
   ]
  },
  {
   "cell_type": "code",
   "execution_count": 38,
   "id": "5aa617c6",
   "metadata": {},
   "outputs": [
    {
     "data": {
      "text/plain": [
       "'(25+5j)'"
      ]
     },
     "execution_count": 38,
     "metadata": {},
     "output_type": "execute_result"
    }
   ],
   "source": [
    "#complex to string\n",
    "str(a)"
   ]
  },
  {
   "cell_type": "markdown",
   "id": "5a45d100",
   "metadata": {},
   "source": [
    "### converting  integer to bin oct hex values"
   ]
  },
  {
   "cell_type": "code",
   "execution_count": 45,
   "id": "5b5a979d",
   "metadata": {},
   "outputs": [],
   "source": [
    "x=30"
   ]
  },
  {
   "cell_type": "code",
   "execution_count": 46,
   "id": "780017cb",
   "metadata": {},
   "outputs": [],
   "source": [
    "x=bin(x)"
   ]
  },
  {
   "cell_type": "code",
   "execution_count": 47,
   "id": "5287150e",
   "metadata": {},
   "outputs": [
    {
     "name": "stdout",
     "output_type": "stream",
     "text": [
      "0b11110\n"
     ]
    }
   ],
   "source": [
    "print(x)"
   ]
  },
  {
   "cell_type": "code",
   "execution_count": 48,
   "id": "4cc9bffe",
   "metadata": {},
   "outputs": [
    {
     "data": {
      "text/plain": [
       "int"
      ]
     },
     "execution_count": 48,
     "metadata": {},
     "output_type": "execute_result"
    }
   ],
   "source": [
    "type(0x11110)"
   ]
  },
  {
   "cell_type": "code",
   "execution_count": 67,
   "id": "83652a07",
   "metadata": {},
   "outputs": [],
   "source": [
    "x=15 #int to hex"
   ]
  },
  {
   "cell_type": "code",
   "execution_count": 60,
   "id": "35774239",
   "metadata": {},
   "outputs": [],
   "source": [
    "x=hex(x)"
   ]
  },
  {
   "cell_type": "code",
   "execution_count": 61,
   "id": "a26354dd",
   "metadata": {},
   "outputs": [
    {
     "name": "stdout",
     "output_type": "stream",
     "text": [
      "0xf\n"
     ]
    }
   ],
   "source": [
    "print(x)"
   ]
  },
  {
   "cell_type": "code",
   "execution_count": 70,
   "id": "33a0c04e",
   "metadata": {},
   "outputs": [],
   "source": [
    "y=0xf #hex to binary"
   ]
  },
  {
   "cell_type": "code",
   "execution_count": 71,
   "id": "290cdc79",
   "metadata": {},
   "outputs": [],
   "source": [
    "y=bin(y)"
   ]
  },
  {
   "cell_type": "code",
   "execution_count": 72,
   "id": "ffe02179",
   "metadata": {},
   "outputs": [
    {
     "name": "stdout",
     "output_type": "stream",
     "text": [
      "0b1111\n"
     ]
    }
   ],
   "source": [
    "print(y)"
   ]
  },
  {
   "cell_type": "code",
   "execution_count": 94,
   "id": "c8288b40",
   "metadata": {},
   "outputs": [],
   "source": [
    "y=0xf #hex to octal"
   ]
  },
  {
   "cell_type": "code",
   "execution_count": 77,
   "id": "ac19f047",
   "metadata": {},
   "outputs": [],
   "source": [
    "y=oct(y)"
   ]
  },
  {
   "cell_type": "code",
   "execution_count": 78,
   "id": "b3e76c60",
   "metadata": {},
   "outputs": [
    {
     "name": "stdout",
     "output_type": "stream",
     "text": [
      "0o17\n"
     ]
    }
   ],
   "source": [
    "print(y)"
   ]
  },
  {
   "cell_type": "code",
   "execution_count": 88,
   "id": "278fe641",
   "metadata": {},
   "outputs": [
    {
     "name": "stdout",
     "output_type": "stream",
     "text": [
      "15\n"
     ]
    }
   ],
   "source": [
    "print(int('0o17',0))"
   ]
  },
  {
   "cell_type": "code",
   "execution_count": 92,
   "id": "24aceabb",
   "metadata": {},
   "outputs": [
    {
     "name": "stdout",
     "output_type": "stream",
     "text": [
      "15\n"
     ]
    }
   ],
   "source": [
    "print(int('017',8))"
   ]
  },
  {
   "cell_type": "code",
   "execution_count": 93,
   "id": "8a7eab9d",
   "metadata": {},
   "outputs": [
    {
     "data": {
      "text/plain": [
       "str"
      ]
     },
     "execution_count": 93,
     "metadata": {},
     "output_type": "execute_result"
    }
   ],
   "source": [
    "type(y)"
   ]
  },
  {
   "cell_type": "code",
   "execution_count": null,
   "id": "b066987e",
   "metadata": {},
   "outputs": [],
   "source": []
  }
 ],
 "metadata": {
  "kernelspec": {
   "display_name": "Python 3 (ipykernel)",
   "language": "python",
   "name": "python3"
  },
  "language_info": {
   "codemirror_mode": {
    "name": "ipython",
    "version": 3
   },
   "file_extension": ".py",
   "mimetype": "text/x-python",
   "name": "python",
   "nbconvert_exporter": "python",
   "pygments_lexer": "ipython3",
   "version": "3.11.3"
  }
 },
 "nbformat": 4,
 "nbformat_minor": 5
}

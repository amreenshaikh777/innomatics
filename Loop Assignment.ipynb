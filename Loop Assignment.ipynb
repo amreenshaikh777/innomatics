{
 "cells": [
  {
   "cell_type": "markdown",
   "id": "668d763f",
   "metadata": {},
   "source": [
    "####  Q-1 Create a function that takes a list of numbers. Return the largest number in the list."
   ]
  },
  {
   "cell_type": "code",
   "execution_count": 1,
   "id": "de803ef8",
   "metadata": {},
   "outputs": [
    {
     "name": "stdout",
     "output_type": "stream",
     "text": [
      "988\n"
     ]
    }
   ],
   "source": [
    "x=[12,58,354,245,988,254,974]\n",
    "i=0\n",
    "a = x[i]\n",
    "while i<len(x):\n",
    "    if x[i] > a:\n",
    "        a= x[i]\n",
    "    i+=1\n",
    "print(a)\n"
   ]
  },
  {
   "cell_type": "markdown",
   "id": "7f339b38",
   "metadata": {},
   "source": [
    "#### Q-2 Create a function that takes a list of numbers and returns the smallest number in the list."
   ]
  },
  {
   "cell_type": "code",
   "execution_count": 2,
   "id": "938a8371",
   "metadata": {},
   "outputs": [
    {
     "name": "stdout",
     "output_type": "stream",
     "text": [
      "10\n"
     ]
    }
   ],
   "source": [
    "x=[20,25,10,42,75]\n",
    "i=0\n",
    "small_number = x[i]\n",
    "while i<len(x):\n",
    "    if x[i] < small_number:\n",
    "        small_number=x[i]\n",
    "    i+=1\n",
    "print(small_number)\n"
   ]
  },
  {
   "cell_type": "markdown",
   "id": "a26d0502",
   "metadata": {},
   "source": [
    "#### Q-3 Create a function that takes a list and returns the difference between the biggest and smallest numbers."
   ]
  },
  {
   "cell_type": "code",
   "execution_count": 3,
   "id": "209635d8",
   "metadata": {},
   "outputs": [
    {
     "name": "stdout",
     "output_type": "stream",
     "text": [
      "85\n"
     ]
    }
   ],
   "source": [
    "x=[20,15,60,90,100,45,30,25,50]\n",
    "i=0\n",
    "largest_number,small_number= x[i],x[i]\n",
    "while i<len(x):\n",
    "    if x[i] > largest_number:\n",
    "        largest_number=x[i] \n",
    "    elif x[i] < small_number:\n",
    "        small_number=x[i]\n",
    "    i+=1\n",
    "print(largest_number-small_number)   \n",
    "        "
   ]
  },
  {
   "cell_type": "markdown",
   "id": "60b6f5fb",
   "metadata": {},
   "source": [
    "### Q-4 Create a function that takes a list and returns the sum of all numbers in the list."
   ]
  },
  {
   "cell_type": "code",
   "execution_count": 4,
   "id": "49b86eee",
   "metadata": {},
   "outputs": [
    {
     "name": "stdout",
     "output_type": "stream",
     "text": [
      "435\n"
     ]
    }
   ],
   "source": [
    "x=[20,15,60,90,100,45,30,25,50]\n",
    "i=0\n",
    "sn =0\n",
    "while i<len(x):\n",
    "    sn = sn+x[i]\n",
    "    i+=1\n",
    "print(sn)\n"
   ]
  },
  {
   "cell_type": "markdown",
   "id": "44dedc18",
   "metadata": {},
   "source": [
    "#### Q-5 Create a function that takes a number (from 1 - 60) and returns a corresponding string of hyphens.\n"
   ]
  },
  {
   "cell_type": "code",
   "execution_count": 6,
   "id": "f956527e",
   "metadata": {},
   "outputs": [
    {
     "name": "stdout",
     "output_type": "stream",
     "text": [
      "num55\n",
      "-------------------------------------------------------"
     ]
    }
   ],
   "source": [
    "a=int(input('num'))\n",
    "if i<=60:\n",
    "    for i in range(1,a+1) :\n",
    "        print('-', end='')\n",
    "else:\n",
    "    print('greater')"
   ]
  },
  {
   "cell_type": "markdown",
   "id": "0ec77be9",
   "metadata": {},
   "source": [
    "#### Q=>6  Write a function that takes an integer and returns a string with the given number of \"a\"s in Edabit."
   ]
  },
  {
   "cell_type": "code",
   "execution_count": 7,
   "id": "962d7455",
   "metadata": {},
   "outputs": [
    {
     "name": "stdout",
     "output_type": "stream",
     "text": [
      "enter a number 25\n",
      "Edaaaaaaaaaaaaaaaaaaaaaaaaabit\n"
     ]
    }
   ],
   "source": [
    "a=int(input('enter a number '))\n",
    "b='a'\n",
    "for i in b :\n",
    "    print('Ed'+ i*a + 'bit')"
   ]
  },
  {
   "cell_type": "markdown",
   "id": "5b6f2cd5",
   "metadata": {},
   "source": [
    "#### Q=>7  Create a function that returns the last value of the last item in a list or string."
   ]
  },
  {
   "cell_type": "code",
   "execution_count": 8,
   "id": "b25b3b08",
   "metadata": {},
   "outputs": [
    {
     "name": "stdout",
     "output_type": "stream",
     "text": [
      "75\n"
     ]
    }
   ],
   "source": [
    "x=[10,15,12,20,50,25,30,100,75]\n",
    "count = 0\n",
    "for i in x:\n",
    "    if count== 9:\n",
    "        max_ele = i\n",
    "print(i)\n"
   ]
  },
  {
   "cell_type": "markdown",
   "id": "47ee3e51",
   "metadata": {},
   "source": [
    "#### Q-=>8  Create a function that finds the maximum range of a triangle's third edge, where the side lengths are all integers.\n",
    "Examples next_edge(8, 10) ➞ 17\n",
    "\n",
    "next_edge(5, 7) ➞ 11\n",
    "\n",
    "next_edge(9, 2) ➞ 10"
   ]
  },
  {
   "cell_type": "code",
   "execution_count": 9,
   "id": "7e3c4799",
   "metadata": {},
   "outputs": [
    {
     "name": "stdout",
     "output_type": "stream",
     "text": [
      "enter the side1 10\n",
      "enter the side2 5\n",
      "14\n"
     ]
    }
   ],
   "source": [
    "x=int(input(\"enter the side1 \"))\n",
    "b=int(input ('enter the side2 '))\n",
    "side_3=x+b-1\n",
    "print(side_3)"
   ]
  },
  {
   "cell_type": "markdown",
   "id": "1783106d",
   "metadata": {},
   "source": [
    "#### Q=>9  Create a function that takes two strings as arguments and returns the number of times the first string (the single character) is found in the second string."
   ]
  },
  {
   "cell_type": "code",
   "execution_count": 10,
   "id": "4ab1d8d4",
   "metadata": {},
   "outputs": [
    {
     "name": "stdout",
     "output_type": "stream",
     "text": [
      "small string e\n",
      " long string amreeeen\n",
      "4\n"
     ]
    }
   ],
   "source": [
    "a=input('small string ')\n",
    "b= input(' long string ')\n",
    "if a in b:\n",
    "    c= b.count(a)\n",
    "    print(c)\n"
   ]
  },
  {
   "cell_type": "markdown",
   "id": "94bff39c",
   "metadata": {},
   "source": [
    "#### Q=>10  Create a function that takes a list and a string as arguments and returns the index of the string.\n",
    "* find_index([\"hi\", \"edabit\", \"fgh\", \"abc\"], \"fgh\") ➞ 2\n",
    "* find_index([\"Red\", \"blue\", \"Blue\", \"Green\"], \"blue\") ➞ 1"
   ]
  },
  {
   "cell_type": "code",
   "execution_count": 11,
   "id": "8d915c75",
   "metadata": {},
   "outputs": [
    {
     "name": "stdout",
     "output_type": "stream",
     "text": [
      "enter string from a amreen\n",
      "3\n"
     ]
    }
   ],
   "source": [
    "a=['innomatics', 'class', 'room', 'amreen', 'shridhan']\n",
    "b=input('enter string from a ')\n",
    "for i in a:\n",
    "    c= a.index(b)\n",
    "print(c)\n",
    "        "
   ]
  },
  {
   "cell_type": "markdown",
   "id": "7eca85ca",
   "metadata": {},
   "source": [
    "#### Q=>11 Create a function which returns the length of a string, without using len().\n",
    "\n",
    "* Examples\n",
    "* length(\"Hello World\") ➞ 11\n",
    "* length(\"Edabit\") ➞ 6"
   ]
  },
  {
   "cell_type": "code",
   "execution_count": 12,
   "id": "36ed0043",
   "metadata": {},
   "outputs": [
    {
     "name": "stdout",
     "output_type": "stream",
     "text": [
      "enter a stringinnomatics\n",
      "10\n"
     ]
    }
   ],
   "source": [
    "a=input('enter a string')\n",
    "count=0\n",
    "for i in a:\n",
    "    count+=1\n",
    "print(count)"
   ]
  },
  {
   "cell_type": "markdown",
   "id": "121e4f48",
   "metadata": {},
   "source": [
    "#### Q=>12  Create a function that takes a 2D list lst and returns the sum of the minimum value in each row.\n",
    "\n",
    "* Examples\n",
    "* sum_minimums([\n",
    "  * [1, 2, 3, 4, 5],\n",
    "  * [5, 6, 7, 8, 9],\n",
    "  * [20, 21, 34, 56, 100]\n",
    "* ]) ➞ 26\n",
    "\n",
    "* minimum value of the first row is 1\n",
    "* minimum value of the second row is 5\n",
    "* minimum value of the third row is 20"
   ]
  },
  {
   "cell_type": "code",
   "execution_count": 13,
   "id": "263cd724",
   "metadata": {},
   "outputs": [
    {
     "name": "stdout",
     "output_type": "stream",
     "text": [
      "3\n",
      "4\n",
      "21\n",
      "28\n"
     ]
    }
   ],
   "source": [
    "a=[5,3,8,6,4]\n",
    "b=[13,25,4,12,19]\n",
    "c=[22,23,24,21]\n",
    "i=0\n",
    "min_a = a[i]\n",
    "while i<len(a):\n",
    "    if a[i]< min_a:\n",
    "        min_a = a[i]\n",
    "    i+=1\n",
    "print(min_a)\n",
    "\n",
    "i=0\n",
    "min_b = b[i]\n",
    "while i<len(b):\n",
    "    if b[i]<min_b:\n",
    "        min_b=b[i]\n",
    "    i+=1\n",
    "print(min_b)\n",
    "\n",
    "i=0\n",
    "min_c = c[i]\n",
    "while i<len(c):\n",
    "    if c[i]<min_c:\n",
    "        min_c=c[i]\n",
    "    i+=1\n",
    "print(min_c)\n",
    "print(min_a+min_b+min_c)"
   ]
  },
  {
   "cell_type": "markdown",
   "id": "f8ec3392",
   "metadata": {},
   "source": [
    "#### Q=>13 Given a letter and a list of words, return whether the letter does not appear in any of the words.\n",
    "*Examples *forbidden_letter(\"r\", [\"rock\", \"paper\", \"scissors\"]) ➞ False\n",
    "\n",
    "*forbidden_letter(\"a\", [\"spoon\", \"fork\", \"knife\"]) ➞ True"
   ]
  },
  {
   "cell_type": "code",
   "execution_count": 14,
   "id": "5247f5cc",
   "metadata": {},
   "outputs": [
    {
     "name": "stdout",
     "output_type": "stream",
     "text": [
      "enter letter z\n",
      "true\n",
      "true\n",
      "true\n"
     ]
    }
   ],
   "source": [
    "x=input('enter letter ')\n",
    "y= [\"rock\", \"paper\", \"scissors\"]\n",
    "i=0\n",
    "while i<len(y):\n",
    "    if x not in y[i]:\n",
    "        print('true')\n",
    "        i+=1\n",
    "    else:\n",
    "        print('false')\n",
    "    "
   ]
  },
  {
   "cell_type": "markdown",
   "id": "1e896d32",
   "metadata": {},
   "source": [
    "#### Q=>14 Create a function that finds each factor of a given number n. Your solution should return a list of the number(s) that meet this criteria.\n",
    "* find_factors(9) ➞ [1, 3, 9]\n",
    "* 9 has three factors 1, 3 and 9\n"
   ]
  },
  {
   "cell_type": "code",
   "execution_count": 16,
   "id": "0ed4e229",
   "metadata": {},
   "outputs": [
    {
     "name": "stdout",
     "output_type": "stream",
     "text": [
      "enter a number12\n",
      "[1, 2, 3, 4, 6, 12]\n"
     ]
    }
   ],
   "source": [
    "x=int(input('enter a number'))\n",
    "i=1\n",
    "factors=[]\n",
    "while i<=x:\n",
    "    if x%i==0:\n",
    "        factors.append(i)\n",
    "    i+=1\n",
    "print(factors)"
   ]
  },
  {
   "cell_type": "markdown",
   "id": "cd55138f",
   "metadata": {},
   "source": [
    "#### Q=>15 Given a string, create a function to reverse the case. All lower-cased letters should be upper-cased, and vice versa.\n",
    "reverse_case(\"Happy Birthday\") ➞ \"hAPPY bIRTHDAY\"\n"
   ]
  },
  {
   "cell_type": "code",
   "execution_count": 18,
   "id": "c2c913c6",
   "metadata": {},
   "outputs": [
    {
     "name": "stdout",
     "output_type": "stream",
     "text": [
      " GooDmORnINg\n"
     ]
    }
   ],
   "source": [
    "x='gOOd MorNinG'\n",
    "i=0\n",
    "s=\" \"\n",
    "while i <len(x):\n",
    "    if x[i].islower():\n",
    "        s+=x[i].upper()\n",
    "    if x[i].isupper():\n",
    "        s+=x[i].lower()\n",
    "    i+=1\n",
    "print(s)"
   ]
  },
  {
   "cell_type": "code",
   "execution_count": null,
   "id": "530a75e6",
   "metadata": {},
   "outputs": [],
   "source": []
  },
  {
   "cell_type": "code",
   "execution_count": null,
   "id": "96ee0a14",
   "metadata": {},
   "outputs": [],
   "source": []
  },
  {
   "cell_type": "code",
   "execution_count": null,
   "id": "42263f7c",
   "metadata": {},
   "outputs": [],
   "source": []
  },
  {
   "cell_type": "code",
   "execution_count": null,
   "id": "95727854",
   "metadata": {},
   "outputs": [],
   "source": []
  },
  {
   "cell_type": "markdown",
   "id": "fe75c3af",
   "metadata": {},
   "source": [
    "#### Q=>16 given a one word lowercase string txt, return another string such that even-indexed and odd-indexed characters are grouped and groups are space-separated.\n",
    "\n",
    "Examples\n",
    "even_odd_string(\"mubashir\") ➞ \"mbsi uahr\"\n",
    "\n",
    " Letters at even indexes = \"mbsi\"\n",
    " \n",
    "#Letters at odd indexes = \"uahr\"\n",
    "\n",
    "#Join both strings with a space"
   ]
  },
  {
   "cell_type": "code",
   "execution_count": 4,
   "id": "106cff5a",
   "metadata": {
    "scrolled": true
   },
   "outputs": [
    {
     "name": "stdout",
     "output_type": "stream",
     "text": [
      "enter the string: abcdef\n",
      "ace bdf\n"
     ]
    }
   ],
   "source": [
    "x=input('enter the string: ')\n",
    "i=0\n",
    "e,o = '',''\n",
    "while i <len(x):\n",
    "    if i%2==0:\n",
    "        e+=x[i]\n",
    "    else:\n",
    "        o+=x[i]\n",
    "    i+=1\n",
    "print(e,o) "
   ]
  },
  {
   "cell_type": "markdown",
   "id": "90393f64",
   "metadata": {},
   "source": [
    "#### Q=>17  Create a function which returns the total of all odd numbers up to and including n. n will be given as an odd number.\n",
    "\n",
    "Examples\n",
    "add_odd_to_n(5) ➞ 9\n",
    "#1 + 3 + 5 = 9"
   ]
  },
  {
   "cell_type": "code",
   "execution_count": 11,
   "id": "084b78f7",
   "metadata": {},
   "outputs": [
    {
     "name": "stdout",
     "output_type": "stream",
     "text": [
      "enter the number9\n",
      "1\n",
      "3\n",
      "5\n",
      "7\n",
      "9\n"
     ]
    }
   ],
   "source": [
    "x=int(input('enter the number'))\n",
    "total=0\n",
    "i=0\n",
    "while i<=x:\n",
    "    if i%2==1:\n",
    "        total += i\n",
    "        print(i)\n",
    "    i+=1"
   ]
  },
  {
   "cell_type": "markdown",
   "id": "13652bc9",
   "metadata": {},
   "source": [
    "#### Q=> 18 Create a function that takes a number n and returns the sum of all square numbers up to and including n.\n",
    "\n",
    "squares_sum(3) ➞ 14\n",
    "#1² + 2² + 3² =\n",
    "#1 + 4 + 9 =\n",
    "#14"
   ]
  },
  {
   "cell_type": "code",
   "execution_count": null,
   "id": "420d6ddb",
   "metadata": {},
   "outputs": [
    {
     "name": "stdout",
     "output_type": "stream",
     "text": [
      "enter the number3\n"
     ]
    }
   ],
   "source": [
    "n=int(input('enter the number'))\n",
    "i=0\n",
    "total=0\n",
    "while i <= n:\n",
    "     total+=i**2 \n",
    "i+=1\n",
    "print(total)"
   ]
  },
  {
   "cell_type": "code",
   "execution_count": null,
   "id": "021ad90c",
   "metadata": {},
   "outputs": [
    {
     "name": "stdout",
     "output_type": "stream",
     "text": [
      "enter the number4\n"
     ]
    }
   ],
   "source": [
    "n=int(input('enter the number'))\n",
    "i=1\n",
    "total=0\n",
    "while i <= n:\n",
    "     total+=i**2 \n",
    "i+=1\n",
    "print(total)"
   ]
  },
  {
   "cell_type": "markdown",
   "id": "decb77ba",
   "metadata": {},
   "source": [
    "#### Q-19 Given a list of numbers, negate all elements contained within.\n",
    "\n",
    "Negating a positive value -+n will return -n, because all +'s are removed.\n",
    "Negating a negative value --n will return n, because the first - turns the second minus into a +.\n",
    "Examples\n",
    "negate([1, 2, 3, 4]) ➞ [-1, -2, -3, -4]\n",
    "\n",
    "negate([-1, 2, -3, 4]) ➞ [1, -2, 3, -4]\n",
    "\n",
    "negate([]) ➞ []"
   ]
  },
  {
   "cell_type": "code",
   "execution_count": 7,
   "id": "655c98fc",
   "metadata": {},
   "outputs": [
    {
     "name": "stdout",
     "output_type": "stream",
     "text": [
      "[1, -2, 3, -4]\n"
     ]
    }
   ],
   "source": [
    "x= [-1,2,-3,4]\n",
    "i=0\n",
    "while i < len(x):\n",
    "      x[i] = -(x[i])\n",
    "      i+=1\n",
    "print(x)\n",
    "    "
   ]
  },
  {
   "cell_type": "markdown",
   "id": "6a20ab31",
   "metadata": {},
   "source": [
    "#### Q=>20 A number added with its additive inverse equals zero. Create a function that returns a list of additive inverses.\n",
    "\n",
    "Examples\n",
    "additive_inverse([5, -7, 8, 3]) ➞ [-5, 7, -8, -3]\n",
    "\n",
    "additive_inverse([1, 1, 1, 1, 1]) ➞ [-1, -1, -1, -1, -1]\n",
    "\n",
    "additive_inverse([-5, -25, 35]) ➞ [5, 25, -35]\n",
    "Notes"
   ]
  },
  {
   "cell_type": "code",
   "execution_count": 2,
   "id": "995fe828",
   "metadata": {},
   "outputs": [
    {
     "ename": "IndexError",
     "evalue": "list index out of range",
     "output_type": "error",
     "traceback": [
      "\u001b[1;31m---------------------------------------------------------------------------\u001b[0m",
      "\u001b[1;31mIndexError\u001b[0m                                Traceback (most recent call last)",
      "Cell \u001b[1;32mIn[2], line 4\u001b[0m\n\u001b[0;32m      2\u001b[0m i\u001b[38;5;241m=\u001b[39m\u001b[38;5;241m0\u001b[39m\n\u001b[0;32m      3\u001b[0m \u001b[38;5;28;01mwhile\u001b[39;00m i \u001b[38;5;241m<\u001b[39m\u001b[38;5;241m=\u001b[39m \u001b[38;5;28mlen\u001b[39m(n):\n\u001b[1;32m----> 4\u001b[0m     n[i] \u001b[38;5;241m=\u001b[39m \u001b[38;5;241m-\u001b[39m(n[i])\n\u001b[0;32m      5\u001b[0m     i\u001b[38;5;241m+\u001b[39m\u001b[38;5;241m=\u001b[39m\u001b[38;5;241m1\u001b[39m    \n\u001b[0;32m      6\u001b[0m \u001b[38;5;28mprint\u001b[39m(n)\n",
      "\u001b[1;31mIndexError\u001b[0m: list index out of range"
     ]
    }
   ],
   "source": [
    "n=[-1,-2,-3,4,5,6]\n",
    "i=0\n",
    "while i <= len(n):\n",
    "    n[i] = -(n[i])\n",
    "    i+=1    \n",
    "print(n)    "
   ]
  },
  {
   "cell_type": "markdown",
   "id": "e86da7b7",
   "metadata": {},
   "source": [
    "#### Q=>21Write a function that takes the last number of a consecutive list of numbers and returns the total of all numbers up to and including it.\n",
    "\n",
    "Examples\n",
    "add_up_to(3) ➞ 6\n",
    "#1 + 2 + 3 = 6\n",
    "\n",
    "add_up_to(10) ➞ 55\n",
    "#1 + 2 + 3 + ... + 10 = 55\n",
    "\n",
    "add_up_to(7) ➞ 28"
   ]
  },
  {
   "cell_type": "code",
   "execution_count": 2,
   "id": "862168d8",
   "metadata": {},
   "outputs": [
    {
     "name": "stdout",
     "output_type": "stream",
     "text": [
      "enter the number:9\n",
      "45\n"
     ]
    }
   ],
   "source": [
    "x=int(input('enter the number:'))\n",
    "sum_total=0\n",
    "i=0\n",
    "while i <= x:\n",
    "    sum_total+=i\n",
    "    i+=1\n",
    "print(sum_total)"
   ]
  },
  {
   "cell_type": "markdown",
   "id": "34676f5e",
   "metadata": {},
   "source": [
    "#### Q=> 22 Create a function that takes two parameters (start, stop), and returns the sum of all even numbers in the range.\n",
    "\n",
    "Examples\n",
    "sum_even_nums_in_range(10, 20) ➞ 90\n",
    "#10, 12, 14, 16, 18, 20"
   ]
  },
  {
   "cell_type": "code",
   "execution_count": 4,
   "id": "7e091669",
   "metadata": {},
   "outputs": [
    {
     "name": "stdout",
     "output_type": "stream",
     "text": [
      "enter the start number:10\n",
      "enter the end number:20\n",
      "90\n"
     ]
    }
   ],
   "source": [
    "x=int(input('enter the start number:'))\n",
    "y=int(input('enter the end number:'))\n",
    "even_total=0\n",
    "i=x\n",
    "while i <= y:\n",
    "    if i%2==0:\n",
    "        even_total+=i\n",
    "    i+=1\n",
    "print(even_total)\n",
    "    "
   ]
  },
  {
   "cell_type": "markdown",
   "id": "a3f3f451",
   "metadata": {},
   "source": [
    "#### Q=> 23 A palindrome is a word that is identical forward and backwards.\n",
    "\n",
    "mom\n",
    "racecar\n",
    "kayak\n",
    "Given a word, create a function that checks whether it is a palindrome.\n",
    "\n",
    "Examples\n",
    "is_palindrome(\"mom\") ➞ True\n",
    "\n",
    "is_palindrome(\"scary\") ➞ False\n"
   ]
  },
  {
   "cell_type": "code",
   "execution_count": 5,
   "id": "ee71bc6c",
   "metadata": {},
   "outputs": [
    {
     "name": "stdout",
     "output_type": "stream",
     "text": [
      "enter the stringeye\n",
      "true\n"
     ]
    }
   ],
   "source": [
    "x=input('enter the string')\n",
    "y=x[::-1]\n",
    "if x ==y:\n",
    "    print('true')\n",
    "else:\n",
    "    print('false')\n",
    "    \n",
    "    "
   ]
  },
  {
   "cell_type": "markdown",
   "id": "f1f05e46",
   "metadata": {},
   "source": [
    "#### Q=>24 Implement a function that returns a list containing all the consecutive numbers in ascendant order from the given value low up to the given value high (bounds included).\n",
    "\n",
    "Examples\n",
    "get_sequence(1, 5) ➞ [1, 2, 3, 4, 5]\n"
   ]
  },
  {
   "cell_type": "code",
   "execution_count": null,
   "id": "95b37600",
   "metadata": {},
   "outputs": [],
   "source": [
    "x=int(input('enter the start number'))\n",
    "y=int(input('enter the end number'))\n"
   ]
  },
  {
   "cell_type": "markdown",
   "id": "7e1d2e01",
   "metadata": {},
   "source": [
    "### Q=>25 Create a function that finds the index of a given item.\n",
    "\n",
    "Examples\n",
    "search([1, 5, 3], 5) ➞ 1"
   ]
  },
  {
   "cell_type": "code",
   "execution_count": null,
   "id": "c8f3c04c",
   "metadata": {},
   "outputs": [],
   "source": [
    "x=[1,9,2,8,4,5]\n",
    "y=int(input('enter the number from list:'))\n",
    "i=0\n",
    "while i <= len(x):\n",
    "    if y == x[i]:\n",
    "        i+=1\n",
    "        print(i)"
   ]
  },
  {
   "cell_type": "markdown",
   "id": "820f5c1d",
   "metadata": {},
   "source": [
    "#### Q=> 26 Given a string of letters, how many capital letters are there?\n",
    "\n",
    "Examples\n",
    "capital_letters(\"fvLzpxmgXSDrobbgMVrc\") ➞ 6\n"
   ]
  },
  {
   "cell_type": "code",
   "execution_count": 3,
   "id": "93c3e480",
   "metadata": {},
   "outputs": [
    {
     "name": "stdout",
     "output_type": "stream",
     "text": [
      "enter the string:fvLzpxmgXSDrobbgMVrc\"\n",
      "6\n"
     ]
    }
   ],
   "source": [
    "x=input('enter the string:')\n",
    "count=0\n",
    "i=0\n",
    "while i < len(x):\n",
    "    if x[i].isupper():\n",
    "        count+=1\n",
    "    i+=1    \n",
    "print(count)"
   ]
  },
  {
   "cell_type": "markdown",
   "id": "f05bd630",
   "metadata": {},
   "source": [
    "#### Q=>26 Create a function that takes a number num and returns the first 10 multiples of num with 1 added to it, separated by commas.\n",
    "\n",
    "Examples\n",
    "n_tables_plus_one(7) ➞ \"8,15,22,29,36,43,50,57,64,71\"\n"
   ]
  },
  {
   "cell_type": "code",
   "execution_count": 1,
   "id": "26d06fa1",
   "metadata": {},
   "outputs": [
    {
     "name": "stdout",
     "output_type": "stream",
     "text": [
      "enter the number3\n",
      "4\n",
      "7\n",
      "10\n",
      "13\n",
      "16\n",
      "19\n",
      "22\n",
      "25\n",
      "28\n",
      "31\n"
     ]
    }
   ],
   "source": [
    "x=int(input('enter the number'))\n",
    "i=1\n",
    "while i <= 10:\n",
    "    print(x*i+1)\n",
    "    i+=1    \n"
   ]
  },
  {
   "cell_type": "markdown",
   "id": "fac1394a",
   "metadata": {},
   "source": [
    "#### Q=>27 Create a function that adds a string ending to each member in a list.\n",
    "\n",
    "Examples\n",
    "add_ending([\"clever\", \"meek\", \"hurried\", \"nice\"], \"ly\")\n",
    "➞ [\"cleverly\", \"meekly\", \"hurriedly\", \"nicely\"]\n"
   ]
  },
  {
   "cell_type": "code",
   "execution_count": 5,
   "id": "7f3b308d",
   "metadata": {},
   "outputs": [
    {
     "name": "stdout",
     "output_type": "stream",
     "text": [
      "['cleverly', 'meekly', 'hurriedly', 'nicely']\n"
     ]
    }
   ],
   "source": [
    "x=[\"clever\", \"meek\", \"hurried\", \"nice\"]\n",
    "y=[]\n",
    "i=0\n",
    "while i < len(x):\n",
    "    y.append(x[i]+'ly')\n",
    "    i+=1\n",
    "print(y)    \n",
    "    "
   ]
  },
  {
   "cell_type": "markdown",
   "id": "703736b3",
   "metadata": {},
   "source": [
    "### Q=>28 Create a function that takes a list of numbers and returns the sum of its cubes.\n",
    "\n",
    "Examples\n",
    "sum_of_cubes([1, 5, 9]) ➞ 855\n",
    "#Since 1^3 + 5^3 + 9^3 = 1 + 125 + 729 = 855\n",
    "\n",
    "sum_of_cubes([3, 4, 5]) ➞ 216\n"
   ]
  },
  {
   "cell_type": "code",
   "execution_count": 6,
   "id": "29fd3667",
   "metadata": {},
   "outputs": [
    {
     "data": {
      "text/plain": [
       "1044"
      ]
     },
     "execution_count": 6,
     "metadata": {},
     "output_type": "execute_result"
    }
   ],
   "source": [
    "x=[5,4,7,8]\n",
    "y=[]\n",
    "i=0\n",
    "while i < len(x):\n",
    "    y.append(x[i]**3)\n",
    "    i+=1\n",
    "sum(y)    "
   ]
  },
  {
   "cell_type": "markdown",
   "id": "8e2cceac",
   "metadata": {},
   "source": [
    "#### Q=>29 Create a function that returns the minimum number of elements removed to make the sum of all elements in a list even.\n",
    "\n",
    "Examples\n",
    "minimum_removals([1, 2, 3, 4, 5]) ➞ 1\n",
    "countdown(1) ➞ [1, 0]\n",
    "\n",
    "countdown(0) ➞ [0]"
   ]
  },
  {
   "cell_type": "code",
   "execution_count": 5,
   "id": "42d5e7ee",
   "metadata": {},
   "outputs": [
    {
     "name": "stdout",
     "output_type": "stream",
     "text": [
      "1\n"
     ]
    }
   ],
   "source": [
    "x=[1, 2, 3, 4, 5]\n",
    "if sum(x)%2==0:\n",
    "    print(0)\n",
    "else:\n",
    "    print(1)\n",
    "       "
   ]
  },
  {
   "cell_type": "markdown",
   "id": "fa5c9411",
   "metadata": {},
   "source": [
    "#### Q30 Create a function that takes a number as an argument and returns a list of numbers counting down from this number to zero.\n",
    "Examples countdown(5) ➞ [5, 4, 3, 2, 1, 0]\n",
    "\n",
    "countdown(1) ➞ [1, 0]\n",
    "\n",
    "\n",
    "countdown(0) ➞ [0]\n"
   ]
  },
  {
   "cell_type": "code",
   "execution_count": 7,
   "id": "01438a94",
   "metadata": {},
   "outputs": [
    {
     "name": "stdout",
     "output_type": "stream",
     "text": [
      "enter the number10\n",
      "[10, 9, 8, 7, 6, 5, 4, 3, 2, 1, 0]\n"
     ]
    }
   ],
   "source": [
    "x=int(input('enter the number'))\n",
    "y=[]\n",
    "i=0\n",
    "while i <=x:\n",
    "    y.append(x-i)\n",
    "    i+=1\n",
    "print(y)    "
   ]
  },
  {
   "cell_type": "markdown",
   "id": "5bcc29a8",
   "metadata": {},
   "source": [
    "#### Q=>31 Create a function that takes a string road and returns the car that's in first place. The road will be made of \"=\", and cars will be represented by letters in the alphabet.\n",
    "\n",
    "Examples\n",
    "first_place(\"====b===O===e===U=A==\") ➞ \"A\"\n",
    "\n",
    "first_place(\"e==B=Fe\") ➞ \"e\"\n",
    "\n",
    "first_place(\"proeNeoOJGnfl\") ➞ \"l\""
   ]
  },
  {
   "cell_type": "code",
   "execution_count": 22,
   "id": "daad889b",
   "metadata": {},
   "outputs": [
    {
     "name": "stdout",
     "output_type": "stream",
     "text": [
      "A\n"
     ]
    }
   ],
   "source": [
    "y=\"====b===O===e===U=A==\"\n",
    "i=1\n",
    "while i < len(y):\n",
    "    if y[-i].isalpha():\n",
    "        z=y[-i]\n",
    "        break\n",
    "    i+=1\n",
    "print(z)    "
   ]
  },
  {
   "cell_type": "markdown",
   "id": "c70559f8",
   "metadata": {},
   "source": [
    "#### Q=>32  Write a function that returns True if all integers in a list are factors of a number, and False otherwise.\n",
    "\n",
    "Examples\n",
    "check_factors([2, 3, 4], 12) ➞ True\n",
    "#Since 2, 3, and 4 are all factors of 12.\n"
   ]
  },
  {
   "cell_type": "code",
   "execution_count": 6,
   "id": "f7f063e2",
   "metadata": {},
   "outputs": [
    {
     "name": "stdout",
     "output_type": "stream",
     "text": [
      "enter the number12\n",
      "False\n"
     ]
    }
   ],
   "source": [
    "x=[2,3,4,5]\n",
    "z= True\n",
    "y=int(input('enter the number'))\n",
    "i=0\n",
    "while i < len(x):\n",
    "    if y%x[i]==0:\n",
    "        z =z and True\n",
    "    else:\n",
    "        z = z and False\n",
    "    i+=1\n",
    "print(z)"
   ]
  },
  {
   "cell_type": "markdown",
   "id": "48f3ab87",
   "metadata": {},
   "source": [
    "#### Q=>33 A value is omnipresent if it exists in every sublist inside the main list.\n",
    "\n",
    "To illustrate:\n",
    "\n",
    "[[3, 4], [8, 3, 2], [3], [9, 3], [5, 3], [4, 3]]\n",
    "#3 exists in every element inside this list, so is omnipresent.\n",
    "Create a function that determines whether an input value is omnipresent for a given list.\n",
    "\n",
    "Examples\n",
    "is_omnipresent([[1, 1], [1, 3], [5, 1], [6, 1]], 1) ➞ True\n",
    "\n",
    "is_omnipresent([[1, 1], [1, 3], [5, 1], [6, 1]], 6) ➞ False\n"
   ]
  },
  {
   "cell_type": "code",
   "execution_count": 2,
   "id": "505bc316",
   "metadata": {},
   "outputs": [
    {
     "name": "stdout",
     "output_type": "stream",
     "text": [
      "enter the number:3\n"
     ]
    },
    {
     "ename": "TypeError",
     "evalue": "argument of type 'int' is not iterable",
     "output_type": "error",
     "traceback": [
      "\u001b[1;31m---------------------------------------------------------------------------\u001b[0m",
      "\u001b[1;31mTypeError\u001b[0m                                 Traceback (most recent call last)",
      "Cell \u001b[1;32mIn[2], line 6\u001b[0m\n\u001b[0;32m      4\u001b[0m i\u001b[38;5;241m=\u001b[39m\u001b[38;5;241m0\u001b[39m\n\u001b[0;32m      5\u001b[0m \u001b[38;5;28;01mwhile\u001b[39;00m i \u001b[38;5;241m<\u001b[39m\u001b[38;5;28mlen\u001b[39m(y):\n\u001b[1;32m----> 6\u001b[0m     \u001b[38;5;28;01mif\u001b[39;00m x \u001b[38;5;129;01min\u001b[39;00m i:\n\u001b[0;32m      7\u001b[0m         z\u001b[38;5;241m=\u001b[39m z \u001b[38;5;129;01mand\u001b[39;00m \u001b[38;5;28;01mTrue\u001b[39;00m\n\u001b[0;32m      8\u001b[0m     \u001b[38;5;28;01melse\u001b[39;00m:\n",
      "\u001b[1;31mTypeError\u001b[0m: argument of type 'int' is not iterable"
     ]
    }
   ],
   "source": [
    "x=int(input('enter the number:'))\n",
    "y=[[3, 4], [8, 3, 2], [3], [9, 3], [5, 3], [4, 3]]\n",
    "z=True\n",
    "i=0\n",
    "while i <len(y):\n",
    "    if x in i:\n",
    "        z= z and True\n",
    "    else:\n",
    "        z=z and False\n",
    "    i+=1    \n",
    "if z== True:\n",
    "    print('omnipresent')\n",
    "else:\n",
    "    print('not omnipresent')\n"
   ]
  },
  {
   "cell_type": "markdown",
   "id": "f35c0b59",
   "metadata": {},
   "source": [
    "#### Q=>33 Create a function that takes a number as its argument and returns a list of all its factors.\n",
    "Examples\n",
    "factorize(12) ➞ [1, 2, 3, 4, 6, 12]"
   ]
  },
  {
   "cell_type": "code",
   "execution_count": 3,
   "id": "37b1fc15",
   "metadata": {},
   "outputs": [
    {
     "name": "stdout",
     "output_type": "stream",
     "text": [
      "enter a number12\n",
      "[1, 2, 3, 4, 6, 12]\n"
     ]
    }
   ],
   "source": [
    "x=int(input('enter a number'))\n",
    "i=1\n",
    "factors=[]\n",
    "while i<=x:\n",
    "    if x%i==0:\n",
    "        factors.append(i)\n",
    "    i+=1 \n",
    "print(factors)"
   ]
  },
  {
   "cell_type": "markdown",
   "id": "fe8d6c19",
   "metadata": {},
   "source": [
    "#### Q=>34 Write a function that takes all even-indexed characters and odd-indexed characters from a string and concatenates them together.\n",
    "To illustrate:\n",
    "\n",
    "index_shuffle(\"abcd\") ➞ \"acbd\"\n",
    "\n",
    "// \"ac\" (even-indexed) + \"bd\" (odd-indexed)\n",
    "\n"
   ]
  },
  {
   "cell_type": "code",
   "execution_count": 8,
   "id": "e92f72b3",
   "metadata": {},
   "outputs": [
    {
     "name": "stdout",
     "output_type": "stream",
     "text": [
      "aresakmenhih\n"
     ]
    }
   ],
   "source": [
    "x='amreenshaikh'\n",
    "i=0\n",
    "even=''\n",
    "odd=''\n",
    "while i<len(x):\n",
    "    if i%2==0:\n",
    "        even+=x[i]\n",
    "    if i%2!=0:\n",
    "        odd+=x[i]\n",
    "    i+=1\n",
    "print(even+odd)"
   ]
  },
  {
   "cell_type": "markdown",
   "id": "b85d1460",
   "metadata": {},
   "source": [
    "#### Q=>35 Create a function to multiply all of the values in a list by the amount of values in the given list.\n",
    "Examples\n",
    "multiply_by_length([2, 3, 1, 0]) ➞ [8, 12, 4, 0]"
   ]
  },
  {
   "cell_type": "code",
   "execution_count": 9,
   "id": "101fde49",
   "metadata": {},
   "outputs": [
    {
     "name": "stdout",
     "output_type": "stream",
     "text": [
      "[8, 12, 4, 0]\n"
     ]
    }
   ],
   "source": [
    "x=[2, 3, 1, 0]\n",
    "i=0\n",
    "y=[]\n",
    "while i<len(x):\n",
    "    y.append(x[i]*len(x))\n",
    "    i+=1\n",
    "print(y)\n",
    "    "
   ]
  },
  {
   "cell_type": "markdown",
   "id": "6b96c5e3",
   "metadata": {},
   "source": [
    "###### 36. Create a function that takes a string and returns the number (count) of vowels contained within it.\n",
    "Examples\n",
    "count_vowels(\"Celebration\") ➞ 5"
   ]
  },
  {
   "cell_type": "code",
   "execution_count": 1,
   "id": "75138034",
   "metadata": {},
   "outputs": [
    {
     "name": "stdout",
     "output_type": "stream",
     "text": [
      "Enter a string: amreen\n",
      "vowels in string:  3\n"
     ]
    }
   ],
   "source": [
    "x = input(\"Enter a string: \")\n",
    "vowels = {'a', 'e', 'i', 'o', 'u'}\n",
    "i = 0\n",
    "y = 0\n",
    "while i< len(x):\n",
    "    if x[i] in vowels:\n",
    "        y += 1\n",
    "    i+= 1\n",
    "print(\"vowels in string: \", y)"
   ]
  },
  {
   "cell_type": "markdown",
   "id": "507ccf63",
   "metadata": {},
   "source": [
    "#### Q 37. Create a function which concatenates the number 7 to the end of every chord in a list. Ignore all chords which already end with 7.\n",
    "Examples\n",
    "\n",
    "jazzify([\"G\", \"F\", \"C\"]) ➞ [\"G7\", \"F7\", \"C7\"]"
   ]
  },
  {
   "cell_type": "code",
   "execution_count": 2,
   "id": "8f42b260",
   "metadata": {},
   "outputs": [
    {
     "name": "stdout",
     "output_type": "stream",
     "text": [
      "['G7', 'F7', 'C7']\n"
     ]
    }
   ],
   "source": [
    "x = [\"G\", \"F\", \"C\"]\n",
    "z = []\n",
    "i = 0\n",
    "while i < len(x):\n",
    "    z.append(x[i] + \"7\")\n",
    "    i+= 1\n",
    "print(z)"
   ]
  },
  {
   "cell_type": "markdown",
   "id": "4f241dda",
   "metadata": {},
   "source": [
    "#### Q 38. Create a function that takes an array of values resistance that are connected in series, and calculates the total resistance of the circuit in ohms. The ohm is the standard unit of electrical resistance in the International System of Units ( SI ).\n",
    "Examples\n",
    "series_resistance([1, 5, 6, 3]) ➞ \"15 ohms\""
   ]
  },
  {
   "cell_type": "code",
   "execution_count": 3,
   "id": "7863e924",
   "metadata": {},
   "outputs": [
    {
     "name": "stdout",
     "output_type": "stream",
     "text": [
      "22\n"
     ]
    }
   ],
   "source": [
    "x = [3,5,8,6]\n",
    "resistance = 0\n",
    "i= 0\n",
    "while i< len(x):\n",
    "    resistance += x[i]\n",
    "    i+= 1\n",
    "print(resistance)"
   ]
  },
  {
   "cell_type": "markdown",
   "id": "7d4ef0c2",
   "metadata": {},
   "source": [
    "#### Q 40. implement a function that returns a list containing all the consecutive numbers in ascendant order from the given value low up to the given value high (bounds included).\n",
    "Examples\n",
    "get_sequence(1, 5) ➞ [1, 2, 3, 4, 5]"
   ]
  },
  {
   "cell_type": "code",
   "execution_count": 4,
   "id": "4ad321ea",
   "metadata": {},
   "outputs": [
    {
     "name": "stdout",
     "output_type": "stream",
     "text": [
      "enter start number1\n",
      "enter end number6\n",
      "[1, 2, 3, 4, 5, 6]\n"
     ]
    }
   ],
   "source": [
    "start=int(input('enter start number'))\n",
    "end=int(input('enter end number'))\n",
    "result=[]\n",
    "i=start\n",
    "while i<=end:\n",
    "    result.append(i)\n",
    "    i+=1\n",
    "print(result)"
   ]
  },
  {
   "cell_type": "markdown",
   "id": "fe7f717d",
   "metadata": {},
   "source": [
    "#### Q 41. Write a function that turns a comma-delimited list into an array of strings.\n",
    "Examples:\n",
    "\n",
    "to_array(\"watermelon, raspberry, orange\") ➞ [\"watermelon\", \"raspberry\", \"orange\""
   ]
  },
  {
   "cell_type": "code",
   "execution_count": 5,
   "id": "fe6b947e",
   "metadata": {},
   "outputs": [
    {
     "name": "stdout",
     "output_type": "stream",
     "text": [
      "['watermelon', ' raspberry', ' orange']\n"
     ]
    }
   ],
   "source": [
    "x = \"watermelon, raspberry, orange\"\n",
    "y = x.split(\",\")\n",
    "print(f'{y}')"
   ]
  },
  {
   "cell_type": "markdown",
   "id": "0306776a",
   "metadata": {},
   "source": [
    "#### Q 42. Given a number n, return a list containing several lists. Each list increments in size, from range 1 to n inclusive, contaning its length as the elements.\n",
    "Examples\n",
    "\n",
    "pyramid_lists(1) ➞ [[1]]\n",
    "\n",
    "pyramid_lists(3) ➞ [[1], [2, 2], [3, 3, 3]]"
   ]
  },
  {
   "cell_type": "code",
   "execution_count": 1,
   "id": "fb90414b",
   "metadata": {},
   "outputs": [
    {
     "name": "stdout",
     "output_type": "stream",
     "text": [
      "enter a number3\n",
      "[[1], [2, 2], [3, 3, 3]]\n"
     ]
    }
   ],
   "source": [
    "x=int(input('enter a number'))\n",
    "y=[]\n",
    "for i in range(1,x+1):\n",
    "    y.append([i]*i)\n",
    "print(y)\n",
    "    "
   ]
  },
  {
   "cell_type": "markdown",
   "id": "14097b9c",
   "metadata": {},
   "source": [
    "#### Q 43. create a function that number in given range is divisible by 3 and 5 also it is odd number"
   ]
  },
  {
   "cell_type": "code",
   "execution_count": 2,
   "id": "8aeb702c",
   "metadata": {},
   "outputs": [
    {
     "name": "stdout",
     "output_type": "stream",
     "text": [
      "enter start1\n",
      "enter end20\n",
      "15\n"
     ]
    }
   ],
   "source": [
    "x=int(input('enter start'))\n",
    "y= int(input('enter end'))\n",
    "for ele in range(x,y):\n",
    "    if ele%3==0 and ele%5==0  and ele%2!=0:\n",
    "        print(ele)"
   ]
  },
  {
   "cell_type": "markdown",
   "id": "4e2590ee",
   "metadata": {},
   "source": [
    "#### Q 44. 8.Create a function that takes a list of strings and integers, and filters out the list so that it returns a list of integers only.\n",
    "Examples\n",
    "filter_list([1, 2, 3, \"a\", \"b\", 4]) ➞ [1, 2, 3, 4]"
   ]
  },
  {
   "cell_type": "code",
   "execution_count": 4,
   "id": "74294bea",
   "metadata": {},
   "outputs": [
    {
     "name": "stdout",
     "output_type": "stream",
     "text": [
      "[8, 1]\n"
     ]
    }
   ],
   "source": [
    "x= [\"abs\", \"erf\",8,1]\n",
    "y = x\n",
    "filtered_list = []\n",
    "i = 0\n",
    "\n",
    "while i < len(y):\n",
    "    item = y[i]\n",
    "    if isinstance(item, int):\n",
    "        filtered_list.append(item)\n",
    "    i+= 1\n",
    "\n",
    "print(filtered_list)"
   ]
  },
  {
   "cell_type": "markdown",
   "id": "76a4d204",
   "metadata": {},
   "source": [
    "#### Q.45. Hamming distance is the number of characters that differ between two strings.\n",
    "To illustrate: String1: \"abcbba\" ,String2: \"abcbda\"\n",
    "Hamming Distance: 1 - \"b\" vs. \"d\" is the only difference.Create a function that computes the hamming distance between two strings.\n",
    "Examples\n",
    "hamming_distance(\"abcde\", \"bcdef\") ➞ 5"
   ]
  },
  {
   "cell_type": "code",
   "execution_count": 5,
   "id": "8d4bd4c4",
   "metadata": {},
   "outputs": [
    {
     "name": "stdout",
     "output_type": "stream",
     "text": [
      "Enter the first string: strong\n",
      "Enter the second string: strung\n",
      "1\n"
     ]
    }
   ],
   "source": [
    "string1 = input(\"Enter the first string: \")\n",
    "string2 = input(\"Enter the second string: \")\n",
    "hamming_distance = 0\n",
    "index = 0\n",
    "\n",
    "while index < len(string1):\n",
    "    if string1[index] != string2[index]:\n",
    "        hamming_distance += 1\n",
    "    index += 1\n",
    "\n",
    "print(hamming_distance)"
   ]
  },
  {
   "cell_type": "markdown",
   "id": "0ca59b4b",
   "metadata": {},
   "source": [
    "#### Q 46. .Create a function that takes a list and finds the integer which appears an odd number of times.\n",
    "Examples\n",
    "\n",
    "find_odd([1, 1, 2, -2, 5, 2, 4, 4, -1, -2, 5]) ➞ -1\n",
    "\n",
    "find_odd([20, 1, 1, 2, 2, 3, 3, 5, 5, 4, 20, 4, 5]) ➞ 5"
   ]
  },
  {
   "cell_type": "code",
   "execution_count": 6,
   "id": "e4d0c74a",
   "metadata": {},
   "outputs": [
    {
     "name": "stdout",
     "output_type": "stream",
     "text": [
      "5\n"
     ]
    }
   ],
   "source": [
    "num_list = [20, 1, 1, 2, 2, 3, 3, 5, 5, 4, 20, 4, 5]\n",
    "odd_integer = None\n",
    "i = 0\n",
    "\n",
    "while i < len(num_list):\n",
    "    num = num_list[i]\n",
    "    if num_list.count(num) % 2 == 1:\n",
    "        odd_integer = num\n",
    "        break\n",
    "    i += 1\n",
    "print(odd_integer)\n"
   ]
  },
  {
   "cell_type": "markdown",
   "id": "f0b60b4b",
   "metadata": {},
   "source": [
    "#### Q 48. Create a function that repeats each character in a string n times.\n",
    "Examples\n",
    "repeat(\"mice\", 5) ➞ \"mmmmmiiiiiccccceeeee"
   ]
  },
  {
   "cell_type": "code",
   "execution_count": null,
   "id": "41f71ff9",
   "metadata": {},
   "outputs": [],
   "source": [
    "x=input('enter a string')\n",
    "y= int(input('enter repeat'))\n",
    "i=0\n",
    "z=''\n",
    "while i<len(x):\n",
    "    z+=x[i]*y\n",
    "    i+=1\n",
    "print(z)"
   ]
  },
  {
   "cell_type": "code",
   "execution_count": 1,
   "id": "f9e0367c",
   "metadata": {},
   "outputs": [
    {
     "name": "stdout",
     "output_type": "stream",
     "text": [
      "enter a stringmice\n",
      "enter repeatmmmmmiiiiiccccceeeee\n"
     ]
    },
    {
     "ename": "ValueError",
     "evalue": "invalid literal for int() with base 10: 'mmmmmiiiiiccccceeeee'",
     "output_type": "error",
     "traceback": [
      "\u001b[1;31m---------------------------------------------------------------------------\u001b[0m",
      "\u001b[1;31mValueError\u001b[0m                                Traceback (most recent call last)",
      "Cell \u001b[1;32mIn[1], line 2\u001b[0m\n\u001b[0;32m      1\u001b[0m x\u001b[38;5;241m=\u001b[39m\u001b[38;5;28minput\u001b[39m(\u001b[38;5;124m'\u001b[39m\u001b[38;5;124menter a string\u001b[39m\u001b[38;5;124m'\u001b[39m)\n\u001b[1;32m----> 2\u001b[0m y\u001b[38;5;241m=\u001b[39m \u001b[38;5;28mint\u001b[39m(\u001b[38;5;28minput\u001b[39m(\u001b[38;5;124m'\u001b[39m\u001b[38;5;124menter repeat\u001b[39m\u001b[38;5;124m'\u001b[39m))\n\u001b[0;32m      3\u001b[0m i\u001b[38;5;241m=\u001b[39m\u001b[38;5;241m0\u001b[39m\n\u001b[0;32m      4\u001b[0m z\u001b[38;5;241m=\u001b[39m\u001b[38;5;124m'\u001b[39m\u001b[38;5;124m'\u001b[39m\n",
      "\u001b[1;31mValueError\u001b[0m: invalid literal for int() with base 10: 'mmmmmiiiiiccccceeeee'"
     ]
    }
   ],
   "source": [
    "x=input('enter a string')\n",
    "y= int(input('enter repeat'))\n",
    "i=0\n",
    "z=''\n",
    "while i<len(x):\n",
    "    z+=x[i]*y\n",
    "    i+=1\n",
    "print(z)"
   ]
  },
  {
   "cell_type": "markdown",
   "id": "a4dc3006",
   "metadata": {},
   "source": [
    "#### Q 48.Create a function that takes a number as its argument and returns a list of all its factors.\n",
    "Examples\n",
    "factorize(12) ➞ [1, 2, 3, 4, 6, 12]"
   ]
  },
  {
   "cell_type": "code",
   "execution_count": 2,
   "id": "eae51568",
   "metadata": {},
   "outputs": [
    {
     "name": "stdout",
     "output_type": "stream",
     "text": [
      "enter a number12\n",
      "[1, 2, 3, 4, 6, 12]\n"
     ]
    }
   ],
   "source": [
    "x=int(input('enter a number'))\n",
    "i=1\n",
    "factors=[]\n",
    "while i<=x:\n",
    "    if x%i==0:\n",
    "        factors.append(i)\n",
    "    i+=1 \n",
    "print(factors)"
   ]
  },
  {
   "cell_type": "markdown",
   "id": "4f0a0a73",
   "metadata": {},
   "source": [
    "#### Q 49. Create a function that takes a list of names and returns a list where only the first letter of each name is capitalized.\n",
    "Examples\n",
    "cap_me([\"mavis\", \"senaida\", \"letty\"]) ➞ [\"Mavis\", \"Senaida\", \"Letty\""
   ]
  },
  {
   "cell_type": "code",
   "execution_count": 3,
   "id": "ae2160e1",
   "metadata": {},
   "outputs": [
    {
     "name": "stdout",
     "output_type": "stream",
     "text": [
      "['Mavis', 'Senaida', 'Letty']\n"
     ]
    }
   ],
   "source": [
    "x=[\"mavis\", \"senaida\", \"letty\"]\n",
    "i=0\n",
    "y=[]\n",
    "while i<len(x):\n",
    "    y.append(x[i].title())\n",
    "    i+=1\n",
    "print(y)"
   ]
  },
  {
   "cell_type": "markdown",
   "id": "32a50be4",
   "metadata": {},
   "source": [
    "#### Q 50. create a function that returns the index of the first vowel in a string.\n",
    "Examples\n",
    "first_vowel(\"apple\") ➞ 0"
   ]
  },
  {
   "cell_type": "code",
   "execution_count": 4,
   "id": "b579c222",
   "metadata": {},
   "outputs": [
    {
     "name": "stdout",
     "output_type": "stream",
     "text": [
      "enter a stringamreen\n",
      "0\n",
      "3\n",
      "4\n"
     ]
    }
   ],
   "source": [
    "x=input('enter a string')\n",
    "i=0\n",
    "while i<len(x) :\n",
    "    if x[i] in 'aeiou':\n",
    "        print(i)\n",
    "    i+=1"
   ]
  },
  {
   "cell_type": "code",
   "execution_count": null,
   "id": "5f898de2",
   "metadata": {},
   "outputs": [],
   "source": []
  }
 ],
 "metadata": {
  "kernelspec": {
   "display_name": "Python 3 (ipykernel)",
   "language": "python",
   "name": "python3"
  },
  "language_info": {
   "codemirror_mode": {
    "name": "ipython",
    "version": 3
   },
   "file_extension": ".py",
   "mimetype": "text/x-python",
   "name": "python",
   "nbconvert_exporter": "python",
   "pygments_lexer": "ipython3",
   "version": "3.11.4"
  }
 },
 "nbformat": 4,
 "nbformat_minor": 5
}

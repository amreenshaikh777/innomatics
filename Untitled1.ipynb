{
 "cells": [
  {
   "cell_type": "markdown",
   "id": "7c1aa4fb",
   "metadata": {},
   "source": [
    "### List Comprehension:\n",
    "Easy: Create a list comprehension that generates a list of squares of numbers from 1 to 10.\n",
    "Output: [1, 4, 9, 16, 25, 36, 49, 64, 81, 100]\n"
   ]
  },
  {
   "cell_type": "code",
   "execution_count": 1,
   "id": "85c70995",
   "metadata": {},
   "outputs": [
    {
     "name": "stdout",
     "output_type": "stream",
     "text": [
      "[1, 4, 9, 16, 25, 36, 49, 64, 81, 100]\n"
     ]
    }
   ],
   "source": [
    "l_c=[i**2 for i in range(1,11)]\n",
    "print(l_c)"
   ]
  },
  {
   "cell_type": "markdown",
   "id": "2901ed78",
   "metadata": {},
   "source": [
    "#### Medium: Given a list of words, create a list comprehension to filter out words that are longer than 5 characters.\n",
    "Input: ['apple', 'banana', 'cherry', 'date', 'elderberry']\n",
    "Output: ['apple', 'cherry', 'date']\n"
   ]
  },
  {
   "cell_type": "code",
   "execution_count": 13,
   "id": "0d454227",
   "metadata": {},
   "outputs": [
    {
     "name": "stdout",
     "output_type": "stream",
     "text": [
      "['apple', 'date']\n"
     ]
    }
   ],
   "source": [
    "x= ['apple', 'banana', 'cherry', 'date', 'elderberry']\n",
    "l_c = [i for i in x if len(i) <= 5]\n",
    "print(l_c)"
   ]
  },
  {
   "cell_type": "markdown",
   "id": "f82e192a",
   "metadata": {},
   "source": [
    "### Easy: Create a list containing the numbers 1 to 5 and then append the number 6 to it.\n",
    "Output: [1, 2, 3, 4, 5, 6]\n"
   ]
  },
  {
   "cell_type": "code",
   "execution_count": 17,
   "id": "edeea989",
   "metadata": {},
   "outputs": [
    {
     "name": "stdout",
     "output_type": "stream",
     "text": [
      "[1, 2, 3, 4, 5, 6]\n"
     ]
    }
   ],
   "source": [
    "l=[1,2,3,4,5]\n",
    "l.append(6)\n",
    "print(l)"
   ]
  },
  {
   "cell_type": "markdown",
   "id": "8f718cac",
   "metadata": {},
   "source": [
    "#### Given two lists, merge them into a single list without duplicates.\n",
    "Input:\n",
    "List 1: [1, 2, 3, 4]\n",
    "List 2: [3, 4, 5, 6]\n",
    "Output: [1, 2, 3, 4, 5, 6]\n"
   ]
  },
  {
   "cell_type": "code",
   "execution_count": 29,
   "id": "31afc0f7",
   "metadata": {},
   "outputs": [
    {
     "name": "stdout",
     "output_type": "stream",
     "text": [
      "[1, 2, 3, 4, 5, 6]\n"
     ]
    }
   ],
   "source": [
    "a=[1, 2, 3, 4]\n",
    "b=[3, 4, 5, 6]\n",
    "c=list(set(a+b))\n",
    "print(c)\n",
    "        "
   ]
  },
  {
   "cell_type": "markdown",
   "id": "6d8da05f",
   "metadata": {},
   "source": [
    "####   Given two lists, merge them into a single list without duplicates.\n",
    "Input:\n",
    "List 1: [1, 2, 3, 4]\n",
    "List 2: [3, 4, 5, 6]\n",
    "Output: [1, 2, 3, 4, 5, 6]\n"
   ]
  },
  {
   "cell_type": "markdown",
   "id": "3846aab4",
   "metadata": {},
   "source": [
    "#### Map:\n",
    "Easy: Use the map function to double each element in a list.\n",
    "Input: [1, 2, 3, 4, 5]\n",
    "Output: [2, 4, 6, 8, 10]\n"
   ]
  },
  {
   "cell_type": "code",
   "execution_count": 1,
   "id": "71f0cd16",
   "metadata": {},
   "outputs": [
    {
     "name": "stdout",
     "output_type": "stream",
     "text": [
      "[2, 4, 6, 8, 10]\n"
     ]
    }
   ],
   "source": [
    "\n",
    "x=[1,2,3,4,5] \n",
    "def add(x):\n",
    "    return x+x\n",
    "xm=list(map(add,x))\n",
    "print(xm)"
   ]
  },
  {
   "cell_type": "markdown",
   "id": "8ffc70e2",
   "metadata": {},
   "source": [
    "#### Medium: Use the map function to convert a list of strings to uppercase.\n",
    "Input: ['apple', 'banana', 'cherry']\n",
    "Output: ['APPLE', 'BANANA', 'CHERRY']\n"
   ]
  },
  {
   "cell_type": "code",
   "execution_count": 8,
   "id": "1753ef71",
   "metadata": {},
   "outputs": [],
   "source": [
    "x= ['apple', 'banana', 'cherry'] \n",
    "def swapcase(x):\n",
    "    return x.swapcase()\n",
    "xm=list(map(swapcase,x))"
   ]
  },
  {
   "cell_type": "code",
   "execution_count": 3,
   "id": "a49fec4b",
   "metadata": {},
   "outputs": [],
   "source": [
    "x= ['apple', 'banana', 'cherry'] \n",
    "def upper(x):\n",
    "    return x.upper()\n",
    "xm=list(map(upper,x))"
   ]
  },
  {
   "cell_type": "code",
   "execution_count": 4,
   "id": "e61134e0",
   "metadata": {},
   "outputs": [
    {
     "data": {
      "text/plain": [
       "['APPLE', 'BANANA', 'CHERRY']"
      ]
     },
     "execution_count": 4,
     "metadata": {},
     "output_type": "execute_result"
    }
   ],
   "source": [
    "xm"
   ]
  },
  {
   "cell_type": "markdown",
   "id": "c2522b2e",
   "metadata": {},
   "source": [
    "####  Easy: Use the filter function to get all even numbers from a list.\n",
    "Input: [1, 2, 3, 4, 5, 6]\n",
    "Output: [2, 4, 6]\n"
   ]
  },
  {
   "cell_type": "code",
   "execution_count": 46,
   "id": "87d62661",
   "metadata": {},
   "outputs": [
    {
     "data": {
      "text/plain": [
       "[2, 4, 6]"
      ]
     },
     "execution_count": 46,
     "metadata": {},
     "output_type": "execute_result"
    }
   ],
   "source": [
    "x=[1, 2, 3, 4, 5, 6] \n",
    "e= lambda x: True if x%2==0 else False\n",
    "y=list(filter(e,x))\n",
    "y"
   ]
  },
  {
   "cell_type": "markdown",
   "id": "bb14826b",
   "metadata": {},
   "source": [
    "#### Medium: Use the filter function to get all words from a list that start with the letter 'b'.\n",
    "Input: ['apple', 'banana', 'cherry', 'blueberry', 'date']\n",
    "Output: ['banana', 'blueberry']\n"
   ]
  },
  {
   "cell_type": "code",
   "execution_count": 57,
   "id": "a2764341",
   "metadata": {},
   "outputs": [
    {
     "data": {
      "text/plain": [
       "['banana', 'blueberry']"
      ]
     },
     "execution_count": 57,
     "metadata": {},
     "output_type": "execute_result"
    }
   ],
   "source": [
    "a=['apple', 'banana', 'cherry', 'blueberry', 'date']\n",
    "e= lambda x: True if x.startswith('b') else False\n",
    "y=list(filter(e,a))\n",
    "y\n"
   ]
  },
  {
   "cell_type": "markdown",
   "id": "c294fd14",
   "metadata": {},
   "source": [
    "### Functions:\n",
    "Easy: Write a function called add that takes two numbers as input and returns their sum.\n",
    "Input: add(3, 4)\n",
    "Output: 7"
   ]
  },
  {
   "cell_type": "code",
   "execution_count": 64,
   "id": "37eba594",
   "metadata": {},
   "outputs": [
    {
     "data": {
      "text/plain": [
       "7"
      ]
     },
     "execution_count": 64,
     "metadata": {},
     "output_type": "execute_result"
    }
   ],
   "source": [
    "def add (a,b):\n",
    "    return a+b\n",
    "add(3,4)"
   ]
  },
  {
   "cell_type": "code",
   "execution_count": 63,
   "id": "796a959d",
   "metadata": {},
   "outputs": [],
   "source": [
    "add(3,4)"
   ]
  },
  {
   "cell_type": "markdown",
   "id": "8b37bc47",
   "metadata": {},
   "source": [
    "#### Write a function called calculate_average that takes a list of numbers as input and returns the average (mean) of those numbers.\n",
    "Input: calculate_average([1, 2, 3, 4, 5])\n",
    "Output: 3.0"
   ]
  },
  {
   "cell_type": "code",
   "execution_count": 68,
   "id": "00bd6566",
   "metadata": {},
   "outputs": [
    {
     "data": {
      "text/plain": [
       "3.0"
      ]
     },
     "execution_count": 68,
     "metadata": {},
     "output_type": "execute_result"
    }
   ],
   "source": [
    "def mean (x):\n",
    "    return sum(x)/len(x)\n",
    "mean([1, 2, 3, 4, 5])"
   ]
  },
  {
   "cell_type": "code",
   "execution_count": null,
   "id": "4497264c",
   "metadata": {},
   "outputs": [],
   "source": []
  },
  {
   "cell_type": "code",
   "execution_count": null,
   "id": "c65638be",
   "metadata": {},
   "outputs": [],
   "source": []
  },
  {
   "cell_type": "code",
   "execution_count": 61,
   "id": "1c818d8a",
   "metadata": {},
   "outputs": [],
   "source": [
    "z = list(map(len, ['welcome','to','innomatics']))"
   ]
  },
  {
   "cell_type": "code",
   "execution_count": 10,
   "id": "9456f7a1",
   "metadata": {},
   "outputs": [
    {
     "data": {
      "text/plain": [
       "[7, 2, 10]"
      ]
     },
     "execution_count": 10,
     "metadata": {},
     "output_type": "execute_result"
    }
   ],
   "source": [
    "z"
   ]
  },
  {
   "cell_type": "code",
   "execution_count": 11,
   "id": "b4761d16",
   "metadata": {},
   "outputs": [],
   "source": [
    "z = [len(ele) for ele in y]"
   ]
  },
  {
   "cell_type": "code",
   "execution_count": 12,
   "id": "f63f46c4",
   "metadata": {},
   "outputs": [
    {
     "data": {
      "text/plain": [
       "[2, 4, 2, 6]"
      ]
     },
     "execution_count": 12,
     "metadata": {},
     "output_type": "execute_result"
    }
   ],
   "source": [
    "z"
   ]
  },
  {
   "cell_type": "code",
   "execution_count": 18,
   "id": "b24d71b8",
   "metadata": {},
   "outputs": [],
   "source": [
    "z = lambda x: True if x%2 !=0 else False"
   ]
  },
  {
   "cell_type": "code",
   "execution_count": 19,
   "id": "1f8f1584",
   "metadata": {},
   "outputs": [],
   "source": [
    "l = [1,2,3,4,5,6,7,8,9,10]"
   ]
  },
  {
   "cell_type": "code",
   "execution_count": 20,
   "id": "ca2860ca",
   "metadata": {},
   "outputs": [],
   "source": [
    "f = list(filter(z, l))"
   ]
  },
  {
   "cell_type": "code",
   "execution_count": 21,
   "id": "5f648c23",
   "metadata": {},
   "outputs": [
    {
     "data": {
      "text/plain": [
       "[1, 3, 5, 7, 9]"
      ]
     },
     "execution_count": 21,
     "metadata": {},
     "output_type": "execute_result"
    }
   ],
   "source": [
    "f"
   ]
  },
  {
   "cell_type": "code",
   "execution_count": 22,
   "id": "e885d8f0",
   "metadata": {},
   "outputs": [],
   "source": [
    "import functools\n",
    "from functools import reduce"
   ]
  },
  {
   "cell_type": "code",
   "execution_count": 30,
   "id": "ddcc1bea",
   "metadata": {},
   "outputs": [],
   "source": [
    "def add(x,y):\n",
    "    return x+' '+y\n",
    "r = reduce(add,['apple', 'banana', 'cherry'] )"
   ]
  },
  {
   "cell_type": "code",
   "execution_count": 31,
   "id": "26fa9df0",
   "metadata": {},
   "outputs": [
    {
     "data": {
      "text/plain": [
       "'apple banana cherry'"
      ]
     },
     "execution_count": 31,
     "metadata": {},
     "output_type": "execute_result"
    }
   ],
   "source": [
    "r"
   ]
  },
  {
   "cell_type": "code",
   "execution_count": 27,
   "id": "b845e491",
   "metadata": {},
   "outputs": [
    {
     "data": {
      "text/plain": [
       "55"
      ]
     },
     "execution_count": 27,
     "metadata": {},
     "output_type": "execute_result"
    }
   ],
   "source": [
    "sum([1,2,3,4,5,6,7,8,9,10])"
   ]
  },
  {
   "cell_type": "code",
   "execution_count": null,
   "id": "43533b42",
   "metadata": {},
   "outputs": [],
   "source": []
  }
 ],
 "metadata": {
  "kernelspec": {
   "display_name": "Python 3 (ipykernel)",
   "language": "python",
   "name": "python3"
  },
  "language_info": {
   "codemirror_mode": {
    "name": "ipython",
    "version": 3
   },
   "file_extension": ".py",
   "mimetype": "text/x-python",
   "name": "python",
   "nbconvert_exporter": "python",
   "pygments_lexer": "ipython3",
   "version": "3.11.4"
  }
 },
 "nbformat": 4,
 "nbformat_minor": 5
}
